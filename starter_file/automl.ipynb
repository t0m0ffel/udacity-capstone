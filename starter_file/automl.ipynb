{
 "cells": [
  {
   "cell_type": "markdown",
   "source": [
    "# Automated ML\n",
    "\n",
    "TODO: Import Dependencies. In the cell below, import all the dependencies that you will need to complete the project."
   ],
   "metadata": {}
  },
  {
   "cell_type": "code",
   "source": [
    "import json\n",
    "\n",
    "from azureml.core import Experiment, Model, Workspace\n",
    "from azureml.core.model import InferenceConfig\n",
    "from azureml.core.webservice import AciWebservice\n",
    "from azureml.data.dataset_factory import TabularDatasetFactory\n",
    "from azureml.train.automl import AutoMLConfig\n",
    "from azureml.widgets import RunDetails\n",
    "from IPython.display import display\n",
    "\n",
    "from compute_cluster import get_compute_cluster"
   ],
   "outputs": [],
   "execution_count": 1,
   "metadata": {
    "gather": {
     "logged": 1677688282880
    },
    "jupyter": {
     "outputs_hidden": false,
     "source_hidden": false
    },
    "nteract": {
     "transient": {
      "deleting": false
     }
    }
   }
  },
  {
   "cell_type": "markdown",
   "source": [
    "## Dataset\n",
    "\n",
    "### Overview\n",
    "TODO: In this markdown cell, give an overview of the dataset you are using. Also mention the task you will be performing.\n",
    "\n",
    "\n",
    "TODO: Get data. In the cell below, write code to access the data you will be using in this project. Remember that the dataset needs to be external."
   ],
   "metadata": {}
  },
  {
   "cell_type": "code",
   "source": [
    "ws = Workspace.from_config()\n",
    "\n",
    "# choose a name for experiment\n",
    "experiment_name = \"udacity-project-automl\"\n",
    "\n",
    "experiment = Experiment(ws, experiment_name)\n",
    "\n",
    "print('Workspace name: ' + ws.name,\n",
    "      'Azure region: ' + ws.location,\n",
    "      'Subscription id: ' + ws.subscription_id,\n",
    "      'Resource group: ' + ws.resource_group, sep='\\n'\n",
    "      )\n",
    "\n",
    "run = experiment.start_logging()\n",
    "\n",
    "heart_dataset = TabularDatasetFactory.from_delimited_files(\n",
    "    \"https://raw.githubusercontent.com/t0m0ffel/udacity-capstone/master/starter_file/heart.csv\"\n",
    ")\n",
    "\n"
   ],
   "outputs": [
    {
     "output_type": "stream",
     "name": "stdout",
     "text": "Workspace name: quick-starts-ws-227003\nAzure region: westus2\nSubscription id: 5a4ab2ba-6c51-4805-8155-58759ad589d8\nResource group: aml-quickstarts-227003\n"
    }
   ],
   "execution_count": 2,
   "metadata": {
    "gather": {
     "logged": 1677688288777
    },
    "jupyter": {
     "outputs_hidden": false,
     "source_hidden": false
    },
    "nteract": {
     "transient": {
      "deleting": false
     }
    }
   }
  },
  {
   "cell_type": "markdown",
   "source": [
    "## AutoML Configuration\n",
    "\n",
    "TODO: Explain why you chose the automl settings and configuration you used below."
   ],
   "metadata": {}
  },
  {
   "cell_type": "code",
   "execution_count": null,
   "outputs": [],
   "source": [
    "# Please refer to the Readme for a detailed explanation of the parameters"
   ],
   "metadata": {
    "collapsed": false
   }
  },
  {
   "cell_type": "code",
   "source": [
    "compute_target = get_compute_cluster(ws)"
   ],
   "outputs": [
    {
     "output_type": "stream",
     "name": "stdout",
     "text": "Found existing cluster, use it.\nSucceeded\nAmlCompute wait for completion finished\n\nMinimum number of nodes requested have been provisioned\n"
    }
   ],
   "execution_count": 3,
   "metadata": {
    "collapsed": false,
    "gather": {
     "logged": 1677688288963
    }
   }
  },
  {
   "cell_type": "code",
   "source": [
    "# TODO: Put your automl settings here\n",
    "automl_settings = {\n",
    "    \"experiment_timeout_minutes\": 20,\n",
    "    \"max_concurrent_iterations\": 5,\n",
    "    \"primary_metric\": 'accuracy'\n",
    "}\n",
    "\n",
    "# TODO: Put your automl config here\n",
    "automl_config = AutoMLConfig(\n",
    "    compute_target=compute_target,\n",
    "    task=\"classification\",\n",
    "    training_data=heart_dataset,\n",
    "    label_column_name=\"output\",\n",
    "    enable_early_stopping=True,\n",
    "    iterations=200,\n",
    "    featurization='auto',\n",
    "    **automl_settings\n",
    ")"
   ],
   "outputs": [],
   "execution_count": 4,
   "metadata": {
    "gather": {
     "logged": 1677688289163
    },
    "jupyter": {
     "outputs_hidden": false,
     "source_hidden": false
    },
    "nteract": {
     "transient": {
      "deleting": false
     }
    }
   }
  },
  {
   "cell_type": "code",
   "source": [
    "# TODO: Submit your experiment\n",
    "remote_run = experiment.submit(automl_config, show_output=True)"
   ],
   "outputs": [
    {
     "output_type": "stream",
     "name": "stdout",
     "text": "Submitting remote run.\nNo run_configuration provided, running on project-cluster with default configuration\nRunning on remote compute: project-cluster\n"
    },
    {
     "output_type": "display_data",
     "data": {
      "text/plain": "<IPython.core.display.HTML object>",
      "text/html": "<table style=\"width:100%\"><tr><th>Experiment</th><th>Id</th><th>Type</th><th>Status</th><th>Details Page</th><th>Docs Page</th></tr><tr><td>udacity-project-automl</td><td>AutoML_987e9c5d-9ee9-49fe-ba81-db8bf828cc6f</td><td>automl</td><td>NotStarted</td><td><a href=\"https://ml.azure.com/runs/AutoML_987e9c5d-9ee9-49fe-ba81-db8bf828cc6f?wsid=/subscriptions/5a4ab2ba-6c51-4805-8155-58759ad589d8/resourcegroups/aml-quickstarts-227003/workspaces/quick-starts-ws-227003&amp;tid=660b3398-b80e-49d2-bc5b-ac1dc93b5254\" target=\"_blank\" rel=\"noopener\">Link to Azure Machine Learning studio</a></td><td><a href=\"https://docs.microsoft.com/en-us/python/api/overview/azure/ml/intro?view=azure-ml-py\" target=\"_blank\" rel=\"noopener\">Link to Documentation</a></td></tr></table>"
     },
     "metadata": {}
    },
    {
     "output_type": "stream",
     "name": "stdout",
     "text": "\nCurrent status: FeaturesGeneration. Generating features for the dataset.\nCurrent status: DatasetFeaturization. Beginning to fit featurizers and featurize the dataset.\nCurrent status: DatasetCrossValidationSplit. Generating individually featurized CV splits.\nCurrent status: ModelSelection. Beginning model selection.\n\n********************************************************************************************\nDATA GUARDRAILS: \n\nTYPE:         Cross validation\nSTATUS:       DONE\nDESCRIPTION:  In order to accurately evaluate the model(s) trained by AutoML, we leverage a dataset that the model is not trained on. Hence, if the user doesn't provide an explicit validation dataset, a part of the training dataset is used to achieve this. For smaller datasets (fewer than 20,000 samples), cross-validation is leveraged, else a single hold-out set is split from the training data to serve as the validation dataset. Hence, for your input data we leverage cross-validation with 10 folds, if the number of training samples are fewer than 1000, and 3 folds in all other cases.\n              Learn more about cross validation: https://aka.ms/AutomatedMLCrossValidation\nDETAILS:      \n+------------------------------+\n|Number of folds               |\n+==============================+\n|10                            |\n+------------------------------+\n\n********************************************************************************************\n\nTYPE:         Class balancing detection\nSTATUS:       PASSED\nDESCRIPTION:  Your inputs were analyzed, and all classes are balanced in your training data.\n              Learn more about imbalanced data: https://aka.ms/AutomatedMLImbalancedData\n\n********************************************************************************************\n\nTYPE:         Missing feature values imputation\nSTATUS:       PASSED\nDESCRIPTION:  No feature missing values were detected in the training data.\n              Learn more about missing value imputation: https://aka.ms/AutomatedMLFeaturization\n\n********************************************************************************************\n\nTYPE:         High cardinality feature detection\nSTATUS:       PASSED\nDESCRIPTION:  Your inputs were analyzed, and no high cardinality features were detected.\n              Learn more about high cardinality feature handling: https://aka.ms/AutomatedMLFeaturization\n\n********************************************************************************************\n\n********************************************************************************************\nITER: The iteration being evaluated.\nPIPELINE: A summary description of the pipeline being evaluated.\nDURATION: Time taken for the current iteration.\nMETRIC: The result of computing score on the fitted pipeline.\nBEST: The best observed score thus far.\n********************************************************************************************\n\n ITER   PIPELINE                                       DURATION            METRIC      BEST\n    0   MaxAbsScaler LightGBM                          0:00:09             0.8048    0.8048\n    1   MaxAbsScaler XGBoostClassifier                 0:00:14             0.8016    0.8048\n    2   MaxAbsScaler ExtremeRandomTrees                0:00:15             0.8312    0.8312\n    3   SparseNormalizer XGBoostClassifier             0:00:13             0.8247    0.8312\n    4   MaxAbsScaler LightGBM                          0:00:13             0.8314    0.8314\n    5   MaxAbsScaler LightGBM                          0:00:13             0.8214    0.8314\n    6   StandardScalerWrapper XGBoostClassifier        0:00:13             0.8077    0.8314\n    7   MaxAbsScaler LogisticRegression                0:00:13             0.8245    0.8314\n   12   MaxAbsScaler LogisticRegression                0:00:09             0.8281    0.8314\n   13   MaxAbsScaler SGD                               0:00:13             0.8376    0.8376\n   14   StandardScalerWrapper XGBoostClassifier        0:00:13             0.8314    0.8376\n   15   SparseNormalizer RandomForest                  0:00:15             0.8313    0.8376\n   16   StandardScalerWrapper LogisticRegression       0:00:09             0.8380    0.8380\n    8   StandardScalerWrapper ExtremeRandomTrees       0:00:14             0.8515    0.8515\n   17   StandardScalerWrapper RandomForest             0:00:14             0.8313    0.8515\n    9   StandardScalerWrapper XGBoostClassifier        0:00:13             0.8145    0.8515\n   10   SparseNormalizer LightGBM                      0:00:14             0.8281    0.8515\n   18   StandardScalerWrapper XGBoostClassifier        0:00:13             0.8344    0.8515\n   11   StandardScalerWrapper XGBoostClassifier        0:00:13             0.8213    0.8515\n   19   TruncatedSVDWrapper RandomForest               0:00:16             0.7852    0.8515\n   22   SparseNormalizer XGBoostClassifier             0:00:29             0.8151    0.8515\n   20   TruncatedSVDWrapper RandomForest               0:00:31             0.7849    0.8515\n   24   StandardScalerWrapper LogisticRegression       0:00:29             0.8281    0.8515\n   25   StandardScalerWrapper RandomForest             0:00:32             0.8281    0.8515\n   21   StandardScalerWrapper XGBoostClassifier        0:01:38             0.8081    0.8515\n   23   MaxAbsScaler ExtremeRandomTrees                0:00:37             0.7589    0.8515\n   26   MaxAbsScaler ExtremeRandomTrees                0:00:30             0.8480    0.8515\n   27   MaxAbsScaler ExtremeRandomTrees                0:00:35             0.8346    0.8515\n   28   StandardScalerWrapper ExtremeRandomTrees       0:00:37             0.8313    0.8515\n   29   StandardScalerWrapper DecisionTree             0:00:28             0.7852    0.8515\n   31   StandardScalerWrapper ExtremeRandomTrees       0:00:34             0.8413    0.8515\n   30   MaxAbsScaler ExtremeRandomTrees                0:00:32             0.5446    0.8515\n   32   StandardScalerWrapper LightGBM                 0:00:29             0.8216    0.8515\n   33   MaxAbsScaler LogisticRegression                0:00:31             0.8347    0.8515\n   34   MaxAbsScaler LogisticRegression                0:00:24             0.8314    0.8515\n   35   SparseNormalizer ExtremeRandomTrees            0:00:21             0.5446    0.8515\n   36                                                  0:00:00                nan    0.8515\n   37                                                  0:00:00                nan    0.8515\n   39    StackEnsemble                                 0:00:55             0.8411    0.8515\n   38    VotingEnsemble                                0:01:52             0.8577    0.8577\n"
    }
   ],
   "execution_count": 5,
   "metadata": {
    "gather": {
     "logged": 1677689295405
    },
    "jupyter": {
     "outputs_hidden": false,
     "source_hidden": false
    },
    "nteract": {
     "transient": {
      "deleting": false
     }
    }
   }
  },
  {
   "cell_type": "markdown",
   "source": [
    "## Run Details\n",
    "\n",
    "OPTIONAL: Write about the different models trained and their performance. Why do you think some models did better than others?\n",
    "\n",
    "TODO: In the cell below, use the `RunDetails` widget to show the different experiments."
   ],
   "metadata": {}
  },
  {
   "cell_type": "code",
   "source": [
    "RunDetails(remote_run).show()"
   ],
   "outputs": [
    {
     "output_type": "display_data",
     "data": {
      "text/plain": "_AutoMLWidget(widget_settings={'childWidgetDisplay': 'popup', 'send_telemetry': False, 'log_level': 'INFO', 's…",
      "application/vnd.jupyter.widget-view+json": {
       "version_major": 2,
       "version_minor": 0,
       "model_id": "360f5709cabd4bd28824ff96eb80a08f"
      }
     },
     "metadata": {}
    },
    {
     "output_type": "display_data",
     "data": {
      "application/aml.mini.widget.v1": "{\"status\": \"Completed\", \"workbench_run_details_uri\": \"https://ml.azure.com/runs/AutoML_987e9c5d-9ee9-49fe-ba81-db8bf828cc6f?wsid=/subscriptions/5a4ab2ba-6c51-4805-8155-58759ad589d8/resourcegroups/aml-quickstarts-227003/workspaces/quick-starts-ws-227003&tid=660b3398-b80e-49d2-bc5b-ac1dc93b5254\", \"run_id\": \"AutoML_987e9c5d-9ee9-49fe-ba81-db8bf828cc6f\", \"run_properties\": {\"run_id\": \"AutoML_987e9c5d-9ee9-49fe-ba81-db8bf828cc6f\", \"created_utc\": \"2023-03-01T16:31:30.42553Z\", \"properties\": {\"num_iterations\": \"200\", \"training_type\": \"TrainFull\", \"acquisition_function\": \"EI\", \"primary_metric\": \"accuracy\", \"train_split\": \"0\", \"acquisition_parameter\": \"0\", \"num_cross_validation\": null, \"target\": \"project-cluster\", \"AMLSettingsJsonString\": \"{\\\"path\\\":null,\\\"name\\\":\\\"udacity-project-automl\\\",\\\"subscription_id\\\":\\\"5a4ab2ba-6c51-4805-8155-58759ad589d8\\\",\\\"resource_group\\\":\\\"aml-quickstarts-227003\\\",\\\"workspace_name\\\":\\\"quick-starts-ws-227003\\\",\\\"region\\\":\\\"westus2\\\",\\\"compute_target\\\":\\\"project-cluster\\\",\\\"spark_service\\\":null,\\\"azure_service\\\":\\\"remote\\\",\\\"many_models\\\":false,\\\"pipeline_fetch_max_batch_size\\\":1,\\\"enable_batch_run\\\":true,\\\"enable_parallel_run\\\":false,\\\"num_procs\\\":null,\\\"enable_run_restructure\\\":false,\\\"start_auxiliary_runs_before_parent_complete\\\":false,\\\"enable_code_generation\\\":true,\\\"iterations\\\":200,\\\"primary_metric\\\":\\\"accuracy\\\",\\\"task_type\\\":\\\"classification\\\",\\\"positive_label\\\":null,\\\"data_script\\\":null,\\\"test_size\\\":0.0,\\\"test_include_predictions_only\\\":false,\\\"validation_size\\\":0.0,\\\"n_cross_validations\\\":null,\\\"y_min\\\":null,\\\"y_max\\\":null,\\\"num_classes\\\":null,\\\"featurization\\\":\\\"auto\\\",\\\"_ignore_package_version_incompatibilities\\\":false,\\\"is_timeseries\\\":false,\\\"max_cores_per_iteration\\\":1,\\\"max_concurrent_iterations\\\":5,\\\"iteration_timeout_minutes\\\":null,\\\"mem_in_mb\\\":null,\\\"enforce_time_on_windows\\\":false,\\\"experiment_timeout_minutes\\\":20,\\\"experiment_exit_score\\\":null,\\\"partition_column_names\\\":null,\\\"whitelist_models\\\":null,\\\"blacklist_algos\\\":[\\\"TensorFlowLinearClassifier\\\",\\\"TensorFlowDNN\\\"],\\\"supported_models\\\":[\\\"TabnetClassifier\\\",\\\"TensorFlowDNN\\\",\\\"LogisticRegression\\\",\\\"SVM\\\",\\\"ExtremeRandomTrees\\\",\\\"KNN\\\",\\\"XGBoostClassifier\\\",\\\"DecisionTree\\\",\\\"LightGBM\\\",\\\"AveragedPerceptronClassifier\\\",\\\"GradientBoosting\\\",\\\"BernoulliNaiveBayes\\\",\\\"MultinomialNaiveBayes\\\",\\\"LinearSVM\\\",\\\"TensorFlowLinearClassifier\\\",\\\"SGD\\\",\\\"RandomForest\\\"],\\\"private_models\\\":[],\\\"auto_blacklist\\\":true,\\\"blacklist_samples_reached\\\":false,\\\"exclude_nan_labels\\\":true,\\\"verbosity\\\":20,\\\"_debug_log\\\":\\\"azureml_automl.log\\\",\\\"show_warnings\\\":false,\\\"model_explainability\\\":true,\\\"service_url\\\":null,\\\"sdk_url\\\":null,\\\"sdk_packages\\\":null,\\\"enable_onnx_compatible_models\\\":false,\\\"enable_split_onnx_featurizer_estimator_models\\\":false,\\\"vm_type\\\":\\\"STANDARD_D2_V2\\\",\\\"telemetry_verbosity\\\":20,\\\"send_telemetry\\\":true,\\\"enable_dnn\\\":false,\\\"scenario\\\":\\\"AutoML\\\",\\\"environment_label\\\":null,\\\"save_mlflow\\\":false,\\\"enable_categorical_indicators\\\":false,\\\"force_text_dnn\\\":false,\\\"enable_feature_sweeping\\\":true,\\\"enable_early_stopping\\\":true,\\\"early_stopping_n_iters\\\":10,\\\"arguments\\\":null,\\\"dataset_id\\\":\\\"944a0602-f898-4453-9dd9-c579ef36e226\\\",\\\"hyperdrive_config\\\":null,\\\"validation_dataset_id\\\":null,\\\"run_source\\\":null,\\\"metrics\\\":null,\\\"enable_metric_confidence\\\":false,\\\"enable_ensembling\\\":true,\\\"enable_stack_ensembling\\\":true,\\\"ensemble_iterations\\\":15,\\\"enable_tf\\\":false,\\\"enable_subsampling\\\":false,\\\"subsample_seed\\\":null,\\\"enable_nimbusml\\\":false,\\\"enable_streaming\\\":false,\\\"force_streaming\\\":false,\\\"track_child_runs\\\":true,\\\"n_best_runs\\\":1,\\\"allowed_private_models\\\":[],\\\"label_column_name\\\":\\\"output\\\",\\\"weight_column_name\\\":null,\\\"cv_split_column_names\\\":null,\\\"enable_local_managed\\\":false,\\\"_local_managed_run_id\\\":null,\\\"cost_mode\\\":1,\\\"lag_length\\\":0,\\\"metric_operation\\\":\\\"maximize\\\",\\\"preprocess\\\":true}\", \"DataPrepJsonString\": \"{\\\\\\\"training_data\\\\\\\": {\\\\\\\"datasetId\\\\\\\": \\\\\\\"944a0602-f898-4453-9dd9-c579ef36e226\\\\\\\"}, \\\\\\\"datasets\\\\\\\": 0}\", \"EnableSubsampling\": \"False\", \"runTemplate\": \"AutoML\", \"azureml.runsource\": \"automl\", \"display_task_type\": \"classification\", \"dependencies_versions\": \"{\\\"azureml-widgets\\\": \\\"1.48.0\\\", \\\"azureml-training-tabular\\\": \\\"1.48.0\\\", \\\"azureml-train\\\": \\\"1.48.0\\\", \\\"azureml-train-restclients-hyperdrive\\\": \\\"1.48.0\\\", \\\"azureml-train-core\\\": \\\"1.48.0\\\", \\\"azureml-train-automl\\\": \\\"1.48.0\\\", \\\"azureml-train-automl-runtime\\\": \\\"1.48.0\\\", \\\"azureml-train-automl-client\\\": \\\"1.48.0\\\", \\\"azureml-tensorboard\\\": \\\"1.48.0\\\", \\\"azureml-telemetry\\\": \\\"1.48.0\\\", \\\"azureml-sdk\\\": \\\"1.48.0\\\", \\\"azureml-samples\\\": \\\"0+unknown\\\", \\\"azureml-responsibleai\\\": \\\"1.48.0\\\", \\\"azureml-pipeline\\\": \\\"1.48.0\\\", \\\"azureml-pipeline-steps\\\": \\\"1.48.0\\\", \\\"azureml-pipeline-core\\\": \\\"1.48.0\\\", \\\"azureml-opendatasets\\\": \\\"1.48.0\\\", \\\"azureml-mlflow\\\": \\\"1.48.0\\\", \\\"azureml-interpret\\\": \\\"1.48.0\\\", \\\"azureml-inference-server-http\\\": \\\"0.7.7\\\", \\\"azureml-explain-model\\\": \\\"1.48.0\\\", \\\"azureml-defaults\\\": \\\"1.48.0\\\", \\\"azureml-dataset-runtime\\\": \\\"1.48.0\\\", \\\"azureml-dataprep\\\": \\\"4.8.3\\\", \\\"azureml-dataprep-rslex\\\": \\\"2.15.1\\\", \\\"azureml-dataprep-native\\\": \\\"38.0.0\\\", \\\"azureml-datadrift\\\": \\\"1.48.0\\\", \\\"azureml-core\\\": \\\"1.48.0\\\", \\\"azureml-contrib-services\\\": \\\"1.48.0\\\", \\\"azureml-contrib-server\\\": \\\"1.48.0\\\", \\\"azureml-contrib-reinforcementlearning\\\": \\\"1.48.0\\\", \\\"azureml-contrib-pipeline-steps\\\": \\\"1.48.0\\\", \\\"azureml-contrib-notebook\\\": \\\"1.48.0\\\", \\\"azureml-contrib-fairness\\\": \\\"1.48.0\\\", \\\"azureml-contrib-dataset\\\": \\\"1.48.0\\\", \\\"azureml-contrib-automl-pipeline-steps\\\": \\\"1.48.0\\\", \\\"azureml-cli-common\\\": \\\"1.48.0\\\", \\\"azureml-automl-runtime\\\": \\\"1.48.0.post1\\\", \\\"azureml-automl-dnn-nlp\\\": \\\"1.48.0\\\", \\\"azureml-automl-core\\\": \\\"1.48.0\\\", \\\"azureml-accel-models\\\": \\\"1.48.0\\\"}\", \"_aml_system_scenario_identification\": \"Remote.Parent\", \"ClientType\": \"SDK\", \"environment_cpu_name\": \"AzureML-AutoML\", \"environment_cpu_label\": \"nimbus-deprecation\", \"environment_gpu_name\": \"AzureML-AutoML-GPU\", \"environment_gpu_label\": \"prod\", \"root_attribution\": \"automl\", \"attribution\": \"AutoML\", \"Orchestrator\": \"AutoML\", \"CancelUri\": \"https://westus2.api.azureml.ms/jasmine/v1.0/subscriptions/5a4ab2ba-6c51-4805-8155-58759ad589d8/resourceGroups/aml-quickstarts-227003/providers/Microsoft.MachineLearningServices/workspaces/quick-starts-ws-227003/experimentids/b7611ac2-8d42-4914-8ac6-14e55922dfbe/cancel/AutoML_987e9c5d-9ee9-49fe-ba81-db8bf828cc6f\", \"ClientSdkVersion\": \"1.48.0.post1\", \"snapshotId\": \"00000000-0000-0000-0000-000000000000\", \"SetupRunId\": \"AutoML_987e9c5d-9ee9-49fe-ba81-db8bf828cc6f_setup\", \"SetupRunContainerId\": \"dcid.AutoML_987e9c5d-9ee9-49fe-ba81-db8bf828cc6f_setup\", \"FeaturizationRunJsonPath\": \"featurizer_container.json\", \"FeaturizationRunId\": \"AutoML_987e9c5d-9ee9-49fe-ba81-db8bf828cc6f_featurize\", \"ProblemInfoJsonString\": \"{\\\"dataset_num_categorical\\\": 0, \\\"is_sparse\\\": true, \\\"subsampling\\\": false, \\\"has_extra_col\\\": true, \\\"dataset_classes\\\": 2, \\\"dataset_features\\\": 27, \\\"dataset_samples\\\": 303, \\\"single_frequency_class_detected\\\": false}\", \"ModelExplainRunId\": \"AutoML_987e9c5d-9ee9-49fe-ba81-db8bf828cc6f_ModelExplain\"}, \"tags\": {\"model_explain_run\": \"best_run\", \"_aml_system_automl_run_workspace_id\": \"32f958b0-807c-4587-8f7b-7d9eeed393ea\", \"_aml_system_azureml.automlComponent\": \"AutoML\", \"pipeline_id_000\": \"5dfac790c5c209f98a1da2dc1c7fb76f0397324f;c7af0367625be6ac5c2fecbfc72ed444cb7a2111;799d2168db11fc19b9e1c6c1df62f8981ad39fe9;44b5d2d23120dfcf96a7dc6389a293d17a966b1b;3735210984ea10097d5c91905cf6300ac278cd89;5304e705d6f401cb07f85bcf0ca59ac1f84dfcf5;294650ec23bc3d067a4972de7ceb12f6e97260fa;3caa818370e5e0c328d6266c359019bd31681270;da45f657e4591caadf1589a85a1f7b8932585595;797e3e972ad02d947be4c64d2b06b775b6df7a49;3fd2e115482e0c7b92aa3297688aefb6c3aa6fb8;1dfdf370ba770047b14bfa59c40920815defcdab;5235e3d56688f5f38ef82d73fba7c2e698fc1af2;79ebb3b8c385e3190e3dd4c1fa28b74730528045;17f87d449bb43aaf3cdae4b7eb6dd6e7fbdaf343;589334a57221e0720a95cf217c065115a7b841d1;dc68fbd594530b5d52812dd9b3ffa3d6d8ba625e;5a8eb9d9f67b1dd7e9e4062585daa2417ea78989;2032292dd602836ed754a266c771ac100c4c80dc;35b8e2db3c5f6e714072e1be9f0210fe48426975;1b9ea9b05e1aba0cfbaa30fae26f336a29920979;fedbb4995d6de479c513576119965d71276f03d1;f52e31edb9a1c79d3094620546ebbc7788edbaf8;3ef9040509da05037cd402691a100d4b3dfeb7c4;c3183e381e95f82da12ad3008625f29b990650db;e478544eb8734c07a1943f5bdf4e6605be6943df;65edeec7d541b796c947551466f09ec07f6070ee;1687441520277ad4f4696e438bb092560383941c;f40840602028c105bf9ef28ee91ca3b3ba3a99d2;0c2e5f39cfcb3aa8cd8c8b5e8bc4f4829c5e420b;7a7309a708e466bff6afe06774efcaeda9d103ab;bb083b4d9bf1e3e99ea76f6fdc9c8a5d97e04be0;9e5199b871bd8af59207c0a7ceda80ac0cd4ec9a;3c56d2e98c14c577a7d7160a71619e6242274ff8;25f9af08587fbf515a325c3c1b647a4ad868d3ad;95effd087158d72349796aa371b9585ce8e05ceb;ad5fcd949fd4fe616133eafc59ffec0c9779b4ad;a4b7c6dd27be9686684d798495d06928dbdd79c6;__AutoML_Stack_Ensemble__;__AutoML_Ensemble__\", \"score\": \"\", \"predicted_cost\": \"\", \"fit_time\": \"\", \"training_percent\": \"\", \"iteration\": \"\", \"run_preprocessor\": \"\", \"run_algorithm\": \"\", \"dynamic_allowlisting_iterations\": \"<23>;<30>;<35>;\", \"_aml_system_azureml.automl_early_exit_message\": \"No scores improved over last 10 iterations, so experiment stopped early. This early stopping behavior can be disabled by setting enable_early_stopping = False in AutoMLConfig for notebook/python SDK runs.\", \"automl_best_child_run_id\": \"AutoML_987e9c5d-9ee9-49fe-ba81-db8bf828cc6f_38\", \"model_explain_best_run_child_id\": \"AutoML_987e9c5d-9ee9-49fe-ba81-db8bf828cc6f_38\"}, \"end_time_utc\": \"2023-03-01T16:47:59.890543Z\", \"status\": \"Completed\", \"log_files\": {}, \"log_groups\": [], \"run_duration\": \"0:16:29\", \"run_number\": \"1677688290\", \"run_queued_details\": {\"status\": \"Completed\", \"details\": null}}, \"child_runs\": [{\"run_id\": \"AutoML_987e9c5d-9ee9-49fe-ba81-db8bf828cc6f_setup\", \"run_number\": 1677688301, \"metric\": null, \"status\": \"Completed\", \"run_type\": \"azureml.scriptrun\", \"training_percent\": null, \"start_time\": \"2023-03-01T16:34:18.565717Z\", \"end_time\": \"2023-03-01T16:35:58.698562Z\", \"created_time\": \"2023-03-01T16:31:41.852316Z\", \"created_time_dt\": \"2023-03-01T16:31:41.852316Z\", \"duration\": \"0:04:16\", \"iteration\": null, \"goal\": null, \"run_name\": \"Completed\", \"run_properties\": null}, {\"run_id\": \"AutoML_987e9c5d-9ee9-49fe-ba81-db8bf828cc6f_featurize\", \"run_number\": 1677688558, \"metric\": null, \"status\": \"Completed\", \"run_type\": \"automl.featurization\", \"training_percent\": null, \"start_time\": \"2023-03-01T16:35:59.275228Z\", \"end_time\": \"2023-03-01T16:38:13.119172Z\", \"created_time\": \"2023-03-01T16:35:58.955879Z\", \"created_time_dt\": \"2023-03-01T16:35:58.955879Z\", \"duration\": \"0:02:14\", \"iteration\": null, \"goal\": null, \"run_name\": \"Completed\", \"run_properties\": null}, {\"run_id\": \"AutoML_987e9c5d-9ee9-49fe-ba81-db8bf828cc6f_0\", \"run_number\": 1677688694, \"metric\": null, \"status\": \"Completed\", \"run_type\": null, \"training_percent\": \"100\", \"start_time\": \"2023-03-01T16:38:30.594523Z\", \"end_time\": \"2023-03-01T16:38:39.138154Z\", \"created_time\": \"2023-03-01T16:38:14.68712Z\", \"created_time_dt\": \"2023-03-01T16:38:14.68712Z\", \"duration\": \"0:00:24\", \"iteration\": \"0\", \"goal\": \"accuracy_max\", \"run_name\": \"MaxAbsScaler, LightGBM\", \"run_properties\": \"copy=True\", \"primary_metric\": 0.80483871, \"best_metric\": 0.80483871}, {\"run_id\": \"AutoML_987e9c5d-9ee9-49fe-ba81-db8bf828cc6f_1\", \"run_number\": 1677688695, \"metric\": null, \"status\": \"Completed\", \"run_type\": null, \"training_percent\": \"100\", \"start_time\": \"2023-03-01T16:38:39.55285Z\", \"end_time\": \"2023-03-01T16:38:53.390256Z\", \"created_time\": \"2023-03-01T16:38:15.136161Z\", \"created_time_dt\": \"2023-03-01T16:38:15.136161Z\", \"duration\": \"0:00:38\", \"iteration\": \"1\", \"goal\": \"accuracy_max\", \"run_name\": \"MaxAbsScaler, XGBoostClassifier\", \"run_properties\": \"copy=True\", \"primary_metric\": 0.8016129, \"best_metric\": 0.80483871}, {\"run_id\": \"AutoML_987e9c5d-9ee9-49fe-ba81-db8bf828cc6f_worker_0\", \"run_number\": 1677688696, \"metric\": null, \"status\": \"Completed\", \"run_type\": \"azureml.scriptrun\", \"training_percent\": null, \"start_time\": \"2023-03-01T16:38:21.530806Z\", \"end_time\": \"2023-03-01T16:39:30.882885Z\", \"created_time\": \"2023-03-01T16:38:16.2015Z\", \"created_time_dt\": \"2023-03-01T16:38:16.2015Z\", \"duration\": \"0:01:14\", \"iteration\": null, \"goal\": null, \"run_name\": \"Completed\", \"run_properties\": null}, {\"run_id\": \"AutoML_987e9c5d-9ee9-49fe-ba81-db8bf828cc6f_worker_1\", \"run_number\": 1677688697, \"metric\": null, \"status\": \"Completed\", \"run_type\": \"azureml.scriptrun\", \"training_percent\": null, \"start_time\": \"2023-03-01T16:39:37.436723Z\", \"end_time\": \"2023-03-01T16:40:48.170621Z\", \"created_time\": \"2023-03-01T16:38:17.852054Z\", \"created_time_dt\": \"2023-03-01T16:38:17.852054Z\", \"duration\": \"0:02:30\", \"iteration\": null, \"goal\": null, \"run_name\": \"Completed\", \"run_properties\": null}, {\"run_id\": \"AutoML_987e9c5d-9ee9-49fe-ba81-db8bf828cc6f_9\", \"run_number\": 1677688698, \"metric\": null, \"status\": \"Completed\", \"run_type\": null, \"training_percent\": \"100\", \"start_time\": \"2023-03-01T16:42:44.940375Z\", \"end_time\": \"2023-03-01T16:42:58.38757Z\", \"created_time\": \"2023-03-01T16:38:18.378332Z\", \"created_time_dt\": \"2023-03-01T16:38:18.378332Z\", \"duration\": \"0:04:40\", \"iteration\": \"9\", \"goal\": \"accuracy_max\", \"run_name\": \"StandardScalerWrapper, XGBoostClassifier\", \"run_properties\": \"copy=True, with_mean=False, with_std=False\", \"primary_metric\": 0.81451613, \"best_metric\": 0.81451613}, {\"run_id\": \"AutoML_987e9c5d-9ee9-49fe-ba81-db8bf828cc6f_worker_2\", \"run_number\": 1677688699, \"metric\": null, \"status\": \"Completed\", \"run_type\": \"azureml.scriptrun\", \"training_percent\": null, \"start_time\": \"2023-03-01T16:40:57.206224Z\", \"end_time\": \"2023-03-01T16:43:34.613834Z\", \"created_time\": \"2023-03-01T16:38:19.356053Z\", \"created_time_dt\": \"2023-03-01T16:38:19.356053Z\", \"duration\": \"0:05:15\", \"iteration\": null, \"goal\": null, \"run_name\": \"Completed\", \"run_properties\": null}, {\"run_id\": \"AutoML_987e9c5d-9ee9-49fe-ba81-db8bf828cc6f_14\", \"run_number\": 1677688700, \"metric\": null, \"status\": \"Completed\", \"run_type\": null, \"training_percent\": \"100\", \"start_time\": \"2023-03-01T16:41:25.276813Z\", \"end_time\": \"2023-03-01T16:41:38.079766Z\", \"created_time\": \"2023-03-01T16:38:20.324535Z\", \"created_time_dt\": \"2023-03-01T16:38:20.324535Z\", \"duration\": \"0:03:17\", \"iteration\": \"14\", \"goal\": \"accuracy_max\", \"run_name\": \"StandardScalerWrapper, XGBoostClassifier\", \"run_properties\": \"copy=True, with_mean=False, with_std=False\", \"primary_metric\": 0.83139785, \"best_metric\": 0.83139785}, {\"run_id\": \"AutoML_987e9c5d-9ee9-49fe-ba81-db8bf828cc6f_worker_3\", \"run_number\": 1677688701, \"metric\": null, \"status\": \"Completed\", \"run_type\": \"azureml.scriptrun\", \"training_percent\": null, \"start_time\": \"2023-03-01T16:40:52.939725Z\", \"end_time\": \"2023-03-01T16:42:02.028017Z\", \"created_time\": \"2023-03-01T16:38:21.06081Z\", \"created_time_dt\": \"2023-03-01T16:38:21.06081Z\", \"duration\": \"0:03:40\", \"iteration\": null, \"goal\": null, \"run_name\": \"Completed\", \"run_properties\": null}, {\"run_id\": \"AutoML_987e9c5d-9ee9-49fe-ba81-db8bf828cc6f_worker_4\", \"run_number\": 1677688702, \"metric\": null, \"status\": \"Completed\", \"run_type\": \"azureml.scriptrun\", \"training_percent\": null, \"start_time\": \"2023-03-01T16:40:59.828077Z\", \"end_time\": \"2023-03-01T16:43:29.172249Z\", \"created_time\": \"2023-03-01T16:38:22.600416Z\", \"created_time_dt\": \"2023-03-01T16:38:22.600416Z\", \"duration\": \"0:05:06\", \"iteration\": null, \"goal\": null, \"run_name\": \"Completed\", \"run_properties\": null}, {\"run_id\": \"AutoML_987e9c5d-9ee9-49fe-ba81-db8bf828cc6f_22\", \"run_number\": 1677688981, \"metric\": null, \"status\": \"Completed\", \"run_type\": \"azureml.scriptrun\", \"training_percent\": \"100\", \"start_time\": \"2023-03-01T16:43:06.500015Z\", \"end_time\": \"2023-03-01T16:43:35.454182Z\", \"created_time\": \"2023-03-01T16:43:01.079546Z\", \"created_time_dt\": \"2023-03-01T16:43:01.079546Z\", \"duration\": \"0:00:34\", \"iteration\": \"22\", \"goal\": \"accuracy_max\", \"run_name\": \"SparseNormalizer, XGBoostClassifier\", \"run_properties\": \"copy=True, norm='l1'\", \"primary_metric\": 0.81505376, \"best_metric\": 0.83139785}, {\"run_id\": \"AutoML_987e9c5d-9ee9-49fe-ba81-db8bf828cc6f_24\", \"run_number\": 1677689019, \"metric\": null, \"status\": \"Completed\", \"run_type\": \"azureml.scriptrun\", \"training_percent\": \"100\", \"start_time\": \"2023-03-01T16:43:44.114819Z\", \"end_time\": \"2023-03-01T16:44:13.189824Z\", \"created_time\": \"2023-03-01T16:43:39.220041Z\", \"created_time_dt\": \"2023-03-01T16:43:39.220041Z\", \"duration\": \"0:00:33\", \"iteration\": \"24\", \"goal\": \"accuracy_max\", \"run_name\": \"StandardScalerWrapper, LogisticRegression\", \"run_properties\": \"copy=True, with_mean=False, with_std=True\", \"primary_metric\": 0.82806452, \"best_metric\": 0.83139785}, {\"run_id\": \"AutoML_987e9c5d-9ee9-49fe-ba81-db8bf828cc6f_26\", \"run_number\": 1677689045, \"metric\": null, \"status\": \"Completed\", \"run_type\": \"azureml.scriptrun\", \"training_percent\": \"100\", \"start_time\": \"2023-03-01T16:44:17.075226Z\", \"end_time\": \"2023-03-01T16:44:47.028884Z\", \"created_time\": \"2023-03-01T16:44:05.823367Z\", \"created_time_dt\": \"2023-03-01T16:44:05.823367Z\", \"duration\": \"0:00:41\", \"iteration\": \"26\", \"goal\": \"accuracy_max\", \"run_name\": \"MaxAbsScaler, ExtremeRandomTrees\", \"run_properties\": \"copy=True\", \"primary_metric\": 0.84795699, \"best_metric\": 0.84795699}, {\"run_id\": \"AutoML_987e9c5d-9ee9-49fe-ba81-db8bf828cc6f_27\", \"run_number\": 1677689054, \"metric\": null, \"status\": \"Completed\", \"run_type\": \"azureml.scriptrun\", \"training_percent\": \"100\", \"start_time\": \"2023-03-01T16:44:20.354271Z\", \"end_time\": \"2023-03-01T16:44:54.885263Z\", \"created_time\": \"2023-03-01T16:44:14.506372Z\", \"created_time_dt\": \"2023-03-01T16:44:14.506372Z\", \"duration\": \"0:00:40\", \"iteration\": \"27\", \"goal\": \"accuracy_max\", \"run_name\": \"MaxAbsScaler, ExtremeRandomTrees\", \"run_properties\": \"copy=True\", \"primary_metric\": 0.83462366, \"best_metric\": 0.84795699}, {\"run_id\": \"AutoML_987e9c5d-9ee9-49fe-ba81-db8bf828cc6f_28\", \"run_number\": 1677689057, \"metric\": null, \"status\": \"Completed\", \"run_type\": \"azureml.scriptrun\", \"training_percent\": \"100\", \"start_time\": \"2023-03-01T16:44:47.540185Z\", \"end_time\": \"2023-03-01T16:45:24.130622Z\", \"created_time\": \"2023-03-01T16:44:17.021991Z\", \"created_time_dt\": \"2023-03-01T16:44:17.021991Z\", \"duration\": \"0:01:07\", \"iteration\": \"28\", \"goal\": \"accuracy_max\", \"run_name\": \"StandardScalerWrapper, ExtremeRandomTrees\", \"run_properties\": \"copy=True, with_mean=False, with_std=True\", \"primary_metric\": 0.83129032, \"best_metric\": 0.84795699}, {\"run_id\": \"AutoML_987e9c5d-9ee9-49fe-ba81-db8bf828cc6f_29\", \"run_number\": 1677689086, \"metric\": null, \"status\": \"Completed\", \"run_type\": \"azureml.scriptrun\", \"training_percent\": \"100\", \"start_time\": \"2023-03-01T16:44:50.487557Z\", \"end_time\": \"2023-03-01T16:45:18.521409Z\", \"created_time\": \"2023-03-01T16:44:46.125507Z\", \"created_time_dt\": \"2023-03-01T16:44:46.125507Z\", \"duration\": \"0:00:32\", \"iteration\": \"29\", \"goal\": \"accuracy_max\", \"run_name\": \"StandardScalerWrapper, DecisionTree\", \"run_properties\": \"copy=True, with_mean=False, with_std=True\", \"primary_metric\": 0.78516129, \"best_metric\": 0.84795699}, {\"run_id\": \"AutoML_987e9c5d-9ee9-49fe-ba81-db8bf828cc6f_31\", \"run_number\": 1677689089, \"metric\": null, \"status\": \"Completed\", \"run_type\": \"azureml.scriptrun\", \"training_percent\": \"100\", \"start_time\": \"2023-03-01T16:44:53.648175Z\", \"end_time\": \"2023-03-01T16:45:27.153306Z\", \"created_time\": \"2023-03-01T16:44:49.220323Z\", \"created_time_dt\": \"2023-03-01T16:44:49.220323Z\", \"duration\": \"0:00:37\", \"iteration\": \"31\", \"goal\": \"accuracy_max\", \"run_name\": \"StandardScalerWrapper, ExtremeRandomTrees\", \"run_properties\": \"copy=True, with_mean=False, with_std=True\", \"primary_metric\": 0.84129032, \"best_metric\": 0.84795699}, {\"run_id\": \"AutoML_987e9c5d-9ee9-49fe-ba81-db8bf828cc6f_32\", \"run_number\": 1677689096, \"metric\": null, \"status\": \"Completed\", \"run_type\": \"azureml.scriptrun\", \"training_percent\": \"100\", \"start_time\": \"2023-03-01T16:45:24.211626Z\", \"end_time\": \"2023-03-01T16:45:53.490425Z\", \"created_time\": \"2023-03-01T16:44:56.142343Z\", \"created_time_dt\": \"2023-03-01T16:44:56.142343Z\", \"duration\": \"0:00:57\", \"iteration\": \"32\", \"goal\": \"accuracy_max\", \"run_name\": \"StandardScalerWrapper, LightGBM\", \"run_properties\": \"copy=True, with_mean=False, with_std=True\", \"primary_metric\": 0.8216129, \"best_metric\": 0.84795699}, {\"run_id\": \"AutoML_987e9c5d-9ee9-49fe-ba81-db8bf828cc6f_33\", \"run_number\": 1677689119, \"metric\": null, \"status\": \"Canceled\", \"run_type\": \"azureml.scriptrun\", \"training_percent\": \"100\", \"start_time\": \"2023-03-01T16:45:27.364527Z\", \"end_time\": \"2023-03-01T16:45:58.400551Z\", \"created_time\": \"2023-03-01T16:45:19.652969Z\", \"created_time_dt\": \"2023-03-01T16:45:19.652969Z\", \"duration\": \"0:00:38\", \"iteration\": \"33\", \"goal\": \"accuracy_max\", \"run_name\": \"MaxAbsScaler, LogisticRegression\", \"run_properties\": \"copy=True\", \"primary_metric\": 0.83473118, \"best_metric\": 0.84795699}, {\"run_id\": \"AutoML_987e9c5d-9ee9-49fe-ba81-db8bf828cc6f_34\", \"run_number\": 1677689125, \"metric\": null, \"status\": \"Completed\", \"run_type\": \"azureml.scriptrun\", \"training_percent\": \"100\", \"start_time\": \"2023-03-01T16:45:33.32498Z\", \"end_time\": \"2023-03-01T16:45:57.762346Z\", \"created_time\": \"2023-03-01T16:45:25.364198Z\", \"created_time_dt\": \"2023-03-01T16:45:25.364198Z\", \"duration\": \"0:00:32\", \"iteration\": \"34\", \"goal\": \"accuracy_max\", \"run_name\": \"MaxAbsScaler, LogisticRegression\", \"run_properties\": \"copy=True\", \"primary_metric\": 0.83139785, \"best_metric\": 0.84795699}, {\"run_id\": \"AutoML_987e9c5d-9ee9-49fe-ba81-db8bf828cc6f_35\", \"run_number\": 1677689129, \"metric\": null, \"status\": \"Canceled\", \"run_type\": \"azureml.scriptrun\", \"training_percent\": \"100\", \"start_time\": \"2023-03-01T16:45:37.05208Z\", \"end_time\": \"2023-03-01T16:45:58.374887Z\", \"created_time\": \"2023-03-01T16:45:29.079407Z\", \"created_time_dt\": \"2023-03-01T16:45:29.079407Z\", \"duration\": \"0:00:29\", \"iteration\": \"35\", \"goal\": \"accuracy_max\", \"run_name\": \"SparseNormalizer, ExtremeRandomTrees\", \"run_properties\": \"copy=True, norm='l1'\", \"primary_metric\": 0.54462366, \"best_metric\": 0.84795699}, {\"run_id\": \"AutoML_987e9c5d-9ee9-49fe-ba81-db8bf828cc6f_36\", \"run_number\": 1677689133, \"metric\": null, \"status\": \"Canceled\", \"run_type\": \"azureml.scriptrun\", \"training_percent\": \"100\", \"start_time\": \"2023-03-01T16:45:57.983001Z\", \"end_time\": \"2023-03-01T16:45:58.353779Z\", \"created_time\": \"2023-03-01T16:45:33.206352Z\", \"created_time_dt\": \"2023-03-01T16:45:33.206352Z\", \"duration\": \"0:00:25\", \"iteration\": \"36\", \"goal\": null, \"run_name\": \"Canceled\", \"run_properties\": null}, {\"run_id\": \"AutoML_987e9c5d-9ee9-49fe-ba81-db8bf828cc6f_37\", \"run_number\": 1677689154, \"metric\": null, \"status\": \"Canceled\", \"run_type\": \"azureml.scriptrun\", \"training_percent\": \"100\", \"start_time\": \"2023-03-01T16:45:58.221596Z\", \"end_time\": \"2023-03-01T16:45:58.388169Z\", \"created_time\": \"2023-03-01T16:45:54.761683Z\", \"created_time_dt\": \"2023-03-01T16:45:54.761683Z\", \"duration\": \"0:00:03\", \"iteration\": \"37\", \"goal\": null, \"run_name\": \"Canceled\", \"run_properties\": null}, {\"run_id\": \"AutoML_987e9c5d-9ee9-49fe-ba81-db8bf828cc6f_39\", \"run_number\": 1677689159, \"metric\": null, \"status\": \"Completed\", \"run_type\": \"azureml.scriptrun\", \"training_percent\": \"100\", \"start_time\": \"2023-03-01T16:46:04.140679Z\", \"end_time\": \"2023-03-01T16:46:59.632211Z\", \"created_time\": \"2023-03-01T16:45:59.109668Z\", \"created_time_dt\": \"2023-03-01T16:45:59.109668Z\", \"duration\": \"0:01:00\", \"iteration\": \"39\", \"goal\": \"accuracy_max\", \"run_name\": \"StackEnsemble\", \"run_properties\": \"base_learners=[('8', Pipeline(memory=None, steps=[('standardscalerwrapper', StandardScalerWrapper(copy=True, with_mean=False, with_std=False\", \"primary_metric\": 0.84107527, \"best_metric\": 0.84795699}], \"children_metrics\": {\"categories\": [0], \"series\": {\"accuracy\": [{\"categories\": [\"0\", \"1\", \"9\", \"14\", \"22\", \"24\", \"26\", \"27\", \"28\", \"29\", \"31\", \"32\", \"33\", \"34\", \"35\", \"39\"], \"mode\": \"markers\", \"name\": \"accuracy\", \"stepped\": false, \"type\": \"scatter\", \"data\": [0.8048387096774194, 0.8016129032258064, 0.814516129032258, 0.8313978494623656, 0.8150537634408603, 0.8280645161290321, 0.8479569892473119, 0.8346236559139786, 0.8312903225806453, 0.7851612903225806, 0.8412903225806451, 0.8216129032258065, 0.8347311827956988, 0.8313978494623655, 0.5446236559139785, 0.8410752688172044]}, {\"categories\": [\"0\", \"1\", \"9\", \"14\", \"22\", \"24\", \"26\", \"27\", \"28\", \"29\", \"31\", \"32\", \"33\", \"34\", \"35\", \"39\"], \"mode\": \"lines\", \"name\": \"accuracy_max\", \"stepped\": true, \"type\": \"scatter\", \"data\": [0.8048387096774194, 0.8048387096774194, 0.814516129032258, 0.8313978494623656, 0.8313978494623656, 0.8313978494623656, 0.8479569892473119, 0.8479569892473119, 0.8479569892473119, 0.8479569892473119, 0.8479569892473119, 0.8479569892473119, 0.8479569892473119, 0.8479569892473119, 0.8479569892473119, 0.8479569892473119]}], \"balanced_accuracy\": [{\"categories\": [\"0\", \"1\", \"9\", \"14\", \"22\", \"24\", \"26\", \"27\", \"28\", \"29\", \"31\", \"32\", \"33\", \"34\", \"35\", \"39\"], \"mode\": \"markers\", \"name\": \"balanced_accuracy\", \"stepped\": false, \"type\": \"scatter\", \"data\": [0.8022711584940687, 0.7945968576057585, 0.8114698019129133, 0.8279241991238895, 0.808154234611278, 0.8243226435157549, 0.8444507719662517, 0.830088745104225, 0.8281481470026361, 0.7840476753208951, 0.8362405559696583, 0.816268148990672, 0.8312937973619089, 0.8286622184145405, 0.5, 0.8380617282184619]}, {\"categories\": [\"0\", \"1\", \"9\", \"14\", \"22\", \"24\", \"26\", \"27\", \"28\", \"29\", \"31\", \"32\", \"33\", \"34\", \"35\", \"39\"], \"mode\": \"lines\", \"name\": \"balanced_accuracy_max\", \"stepped\": true, \"type\": \"scatter\", \"data\": [0.8022711584940687, 0.8022711584940687, 0.8114698019129133, 0.8279241991238895, 0.8279241991238895, 0.8279241991238895, 0.8444507719662517, 0.8444507719662517, 0.8444507719662517, 0.8444507719662517, 0.8444507719662517, 0.8444507719662517, 0.8444507719662517, 0.8444507719662517, 0.8444507719662517, 0.8444507719662517]}], \"precision_score_weighted\": [{\"categories\": [\"0\", \"1\", \"9\", \"14\", \"22\", \"24\", \"26\", \"27\", \"28\", \"29\", \"31\", \"32\", \"33\", \"34\", \"35\", \"39\"], \"mode\": \"markers\", \"name\": \"precision_score_weighted\", \"stepped\": false, \"type\": \"scatter\", \"data\": [0.8170993387842482, 0.807052924483951, 0.8200260644137979, 0.8403406966076746, 0.822100219419438, 0.837026750643655, 0.8532548914165312, 0.8394484719587961, 0.8384652297417953, 0.7951316736096149, 0.8473912182676413, 0.8271861418678308, 0.8451596691956912, 0.8433303041163261, 0.301213203838594, 0.8518925249793062]}, {\"categories\": [\"0\", \"1\", \"9\", \"14\", \"22\", \"24\", \"26\", \"27\", \"28\", \"29\", \"31\", \"32\", \"33\", \"34\", \"35\", \"39\"], \"mode\": \"lines\", \"name\": \"precision_score_weighted_max\", \"stepped\": true, \"type\": \"scatter\", \"data\": [0.8170993387842482, 0.8170993387842482, 0.8200260644137979, 0.8403406966076746, 0.8403406966076746, 0.8403406966076746, 0.8532548914165312, 0.8532548914165312, 0.8532548914165312, 0.8532548914165312, 0.8532548914165312, 0.8532548914165312, 0.8532548914165312, 0.8532548914165312, 0.8532548914165312, 0.8532548914165312]}], \"precision_score_micro\": [{\"categories\": [\"0\", \"1\", \"9\", \"14\", \"22\", \"24\", \"26\", \"27\", \"28\", \"29\", \"31\", \"32\", \"33\", \"34\", \"35\", \"39\"], \"mode\": \"markers\", \"name\": \"precision_score_micro\", \"stepped\": false, \"type\": \"scatter\", \"data\": [0.8048387096774194, 0.8016129032258064, 0.814516129032258, 0.8313978494623656, 0.8150537634408603, 0.8280645161290321, 0.8479569892473119, 0.8346236559139786, 0.8312903225806453, 0.7851612903225806, 0.8412903225806451, 0.8216129032258065, 0.8347311827956988, 0.8313978494623655, 0.5446236559139785, 0.8410752688172044]}, {\"categories\": [\"0\", \"1\", \"9\", \"14\", \"22\", \"24\", \"26\", \"27\", \"28\", \"29\", \"31\", \"32\", \"33\", \"34\", \"35\", \"39\"], \"mode\": \"lines\", \"name\": \"precision_score_micro_max\", \"stepped\": true, \"type\": \"scatter\", \"data\": [0.8048387096774194, 0.8048387096774194, 0.814516129032258, 0.8313978494623656, 0.8313978494623656, 0.8313978494623656, 0.8479569892473119, 0.8479569892473119, 0.8479569892473119, 0.8479569892473119, 0.8479569892473119, 0.8479569892473119, 0.8479569892473119, 0.8479569892473119, 0.8479569892473119, 0.8479569892473119]}], \"f1_score_macro\": [{\"categories\": [\"0\", \"1\", \"9\", \"14\", \"22\", \"24\", \"26\", \"27\", \"28\", \"29\", \"31\", \"32\", \"33\", \"34\", \"35\", \"39\"], \"mode\": \"markers\", \"name\": \"f1_score_macro\", \"stepped\": false, \"type\": \"scatter\", \"data\": [0.799168181102252, 0.7945636078966146, 0.8097532771651192, 0.8260629992825553, 0.8071390630160215, 0.8214077648662913, 0.8435352552516872, 0.8295347962803206, 0.8266633444210267, 0.7797678646141831, 0.8353975060648112, 0.8148759015336339, 0.8280498547401585, 0.8248428221213612, 0.35133378648162716, 0.8343940117324703]}, {\"categories\": [\"0\", \"1\", \"9\", \"14\", \"22\", \"24\", \"26\", \"27\", \"28\", \"29\", \"31\", \"32\", \"33\", \"34\", \"35\", \"39\"], \"mode\": \"lines\", \"name\": \"f1_score_macro_max\", \"stepped\": true, \"type\": \"scatter\", \"data\": [0.799168181102252, 0.799168181102252, 0.8097532771651192, 0.8260629992825553, 0.8260629992825553, 0.8260629992825553, 0.8435352552516872, 0.8435352552516872, 0.8435352552516872, 0.8435352552516872, 0.8435352552516872, 0.8435352552516872, 0.8435352552516872, 0.8435352552516872, 0.8435352552516872, 0.8435352552516872]}], \"matthews_correlation\": [{\"categories\": [\"0\", \"1\", \"9\", \"14\", \"22\", \"24\", \"26\", \"27\", \"28\", \"29\", \"31\", \"32\", \"33\", \"34\", \"35\", \"39\"], \"mode\": \"markers\", \"name\": \"matthews_correlation\", \"stepped\": false, \"type\": \"scatter\", \"data\": [0.6123717721564266, 0.5973189208035813, 0.6255026753949682, 0.663269009301802, 0.6253333297478636, 0.6563212879653518, 0.6936905165464985, 0.6655938022173288, 0.6619023162749007, 0.5702168352376491, 0.6793711958281219, 0.6384213858556864, 0.6712570647179581, 0.6663119876351178, 0.0, 0.6842873752588376]}, {\"categories\": [\"0\", \"1\", \"9\", \"14\", \"22\", \"24\", \"26\", \"27\", \"28\", \"29\", \"31\", \"32\", \"33\", \"34\", \"35\", \"39\"], \"mode\": \"lines\", \"name\": \"matthews_correlation_max\", \"stepped\": true, \"type\": \"scatter\", \"data\": [0.6123717721564266, 0.6123717721564266, 0.6255026753949682, 0.663269009301802, 0.663269009301802, 0.663269009301802, 0.6936905165464985, 0.6936905165464985, 0.6936905165464985, 0.6936905165464985, 0.6936905165464985, 0.6936905165464985, 0.6936905165464985, 0.6936905165464985, 0.6936905165464985, 0.6936905165464985]}], \"f1_score_micro\": [{\"categories\": [\"0\", \"1\", \"9\", \"14\", \"22\", \"24\", \"26\", \"27\", \"28\", \"29\", \"31\", \"32\", \"33\", \"34\", \"35\", \"39\"], \"mode\": \"markers\", \"name\": \"f1_score_micro\", \"stepped\": false, \"type\": \"scatter\", \"data\": [0.8048387096774194, 0.8016129032258064, 0.814516129032258, 0.8313978494623656, 0.8150537634408603, 0.8280645161290321, 0.8479569892473119, 0.8346236559139786, 0.8312903225806453, 0.7851612903225806, 0.8412903225806451, 0.8216129032258065, 0.8347311827956988, 0.8313978494623655, 0.5446236559139785, 0.8410752688172044]}, {\"categories\": [\"0\", \"1\", \"9\", \"14\", \"22\", \"24\", \"26\", \"27\", \"28\", \"29\", \"31\", \"32\", \"33\", \"34\", \"35\", \"39\"], \"mode\": \"lines\", \"name\": \"f1_score_micro_max\", \"stepped\": true, \"type\": \"scatter\", \"data\": [0.8048387096774194, 0.8048387096774194, 0.814516129032258, 0.8313978494623656, 0.8313978494623656, 0.8313978494623656, 0.8479569892473119, 0.8479569892473119, 0.8479569892473119, 0.8479569892473119, 0.8479569892473119, 0.8479569892473119, 0.8479569892473119, 0.8479569892473119, 0.8479569892473119, 0.8479569892473119]}], \"f1_score_weighted\": [{\"categories\": [\"0\", \"1\", \"9\", \"14\", \"22\", \"24\", \"26\", \"27\", \"28\", \"29\", \"31\", \"32\", \"33\", \"34\", \"35\", \"39\"], \"mode\": \"markers\", \"name\": \"f1_score_weighted\", \"stepped\": false, \"type\": \"scatter\", \"data\": [0.8039964671686608, 0.8003724877381713, 0.8143371585300649, 0.8302667625374687, 0.8131944948668461, 0.8259992948364003, 0.8473490251129586, 0.8338219570958, 0.8306773510240297, 0.7848102750537616, 0.8401426385731339, 0.820206447087361, 0.8325752611778195, 0.8292727539537437, 0.38657973886470265, 0.8389512627559454]}, {\"categories\": [\"0\", \"1\", \"9\", \"14\", \"22\", \"24\", \"26\", \"27\", \"28\", \"29\", \"31\", \"32\", \"33\", \"34\", \"35\", \"39\"], \"mode\": \"lines\", \"name\": \"f1_score_weighted_max\", \"stepped\": true, \"type\": \"scatter\", \"data\": [0.8039964671686608, 0.8039964671686608, 0.8143371585300649, 0.8302667625374687, 0.8302667625374687, 0.8302667625374687, 0.8473490251129586, 0.8473490251129586, 0.8473490251129586, 0.8473490251129586, 0.8473490251129586, 0.8473490251129586, 0.8473490251129586, 0.8473490251129586, 0.8473490251129586, 0.8473490251129586]}], \"recall_score_weighted\": [{\"categories\": [\"0\", \"1\", \"9\", \"14\", \"22\", \"24\", \"26\", \"27\", \"28\", \"29\", \"31\", \"32\", \"33\", \"34\", \"35\", \"39\"], \"mode\": \"markers\", \"name\": \"recall_score_weighted\", \"stepped\": false, \"type\": \"scatter\", \"data\": [0.8048387096774194, 0.8016129032258064, 0.814516129032258, 0.8313978494623656, 0.8150537634408603, 0.8280645161290321, 0.8479569892473119, 0.8346236559139786, 0.8312903225806453, 0.7851612903225806, 0.8412903225806451, 0.8216129032258065, 0.8347311827956988, 0.8313978494623655, 0.5446236559139785, 0.8410752688172044]}, {\"categories\": [\"0\", \"1\", \"9\", \"14\", \"22\", \"24\", \"26\", \"27\", \"28\", \"29\", \"31\", \"32\", \"33\", \"34\", \"35\", \"39\"], \"mode\": \"lines\", \"name\": \"recall_score_weighted_max\", \"stepped\": true, \"type\": \"scatter\", \"data\": [0.8048387096774194, 0.8048387096774194, 0.814516129032258, 0.8313978494623656, 0.8313978494623656, 0.8313978494623656, 0.8479569892473119, 0.8479569892473119, 0.8479569892473119, 0.8479569892473119, 0.8479569892473119, 0.8479569892473119, 0.8479569892473119, 0.8479569892473119, 0.8479569892473119, 0.8479569892473119]}], \"log_loss\": [{\"categories\": [\"0\", \"1\", \"9\", \"14\", \"22\", \"24\", \"26\", \"27\", \"28\", \"29\", \"31\", \"32\", \"33\", \"34\", \"35\", \"39\"], \"mode\": \"markers\", \"name\": \"log_loss\", \"stepped\": false, \"type\": \"scatter\", \"data\": [0.5203593439028134, 0.5710552719825028, 0.413781826745521, 0.39953375480305336, 0.4395935486914547, 0.454934022956489, 0.4197749603721322, 0.4158935149305948, 0.45269387365948166, 1.4781539778074202, 0.39329743903634967, 0.42424297639063296, 0.41038626098365444, 0.4018966948964848, 0.6908817568764969, 0.4299927685955792]}, {\"categories\": [\"0\", \"1\", \"9\", \"14\", \"22\", \"24\", \"26\", \"27\", \"28\", \"29\", \"31\", \"32\", \"33\", \"34\", \"35\", \"39\"], \"mode\": \"lines\", \"name\": \"log_loss_min\", \"stepped\": true, \"type\": \"scatter\", \"data\": [0.5203593439028134, 0.5203593439028134, 0.413781826745521, 0.39953375480305336, 0.39953375480305336, 0.39953375480305336, 0.39953375480305336, 0.39953375480305336, 0.39953375480305336, 0.39953375480305336, 0.39329743903634967, 0.39329743903634967, 0.39329743903634967, 0.39329743903634967, 0.39329743903634967, 0.39329743903634967]}], \"average_precision_score_weighted\": [{\"categories\": [\"0\", \"1\", \"9\", \"14\", \"22\", \"24\", \"26\", \"27\", \"28\", \"29\", \"31\", \"32\", \"33\", \"34\", \"35\", \"39\"], \"mode\": \"markers\", \"name\": \"average_precision_score_weighted\", \"stepped\": false, \"type\": \"scatter\", \"data\": [0.8958991570729756, 0.8934536392456118, 0.9024868142023653, 0.9082169780893817, 0.8839722103292976, 0.8982936697801677, 0.9108001303155918, 0.9114403691996585, 0.92421618460629, 0.8585929692820029, 0.9185202798395918, 0.9143847087967607, 0.9115143073124778, 0.9111165737035913, 0.5131790958492312, 0.9261429668547345]}, {\"categories\": [\"0\", \"1\", \"9\", \"14\", \"22\", \"24\", \"26\", \"27\", \"28\", \"29\", \"31\", \"32\", \"33\", \"34\", \"35\", \"39\"], \"mode\": \"lines\", \"name\": \"average_precision_score_weighted_max\", \"stepped\": true, \"type\": \"scatter\", \"data\": [0.8958991570729756, 0.8958991570729756, 0.9024868142023653, 0.9082169780893817, 0.9082169780893817, 0.9082169780893817, 0.9108001303155918, 0.9114403691996585, 0.92421618460629, 0.92421618460629, 0.92421618460629, 0.92421618460629, 0.92421618460629, 0.92421618460629, 0.92421618460629, 0.9261429668547345]}], \"norm_macro_recall\": [{\"categories\": [\"0\", \"1\", \"9\", \"14\", \"22\", \"24\", \"26\", \"27\", \"28\", \"29\", \"31\", \"32\", \"33\", \"34\", \"35\", \"39\"], \"mode\": \"markers\", \"name\": \"norm_macro_recall\", \"stepped\": false, \"type\": \"scatter\", \"data\": [0.6045423169881374, 0.5891937152115171, 0.6229396038258267, 0.655848398247779, 0.6163084692225559, 0.6486452870315099, 0.6889015439325037, 0.66017749020845, 0.6562962940052723, 0.5680953506417903, 0.6724811119393163, 0.6325362979813444, 0.6625875947238176, 0.6573244368290807, 0.0, 0.6761234564369238]}, {\"categories\": [\"0\", \"1\", \"9\", \"14\", \"22\", \"24\", \"26\", \"27\", \"28\", \"29\", \"31\", \"32\", \"33\", \"34\", \"35\", \"39\"], \"mode\": \"lines\", \"name\": \"norm_macro_recall_max\", \"stepped\": true, \"type\": \"scatter\", \"data\": [0.6045423169881374, 0.6045423169881374, 0.6229396038258267, 0.655848398247779, 0.655848398247779, 0.655848398247779, 0.6889015439325037, 0.6889015439325037, 0.6889015439325037, 0.6889015439325037, 0.6889015439325037, 0.6889015439325037, 0.6889015439325037, 0.6889015439325037, 0.6889015439325037, 0.6889015439325037]}], \"recall_score_macro\": [{\"categories\": [\"0\", \"1\", \"9\", \"14\", \"22\", \"24\", \"26\", \"27\", \"28\", \"29\", \"31\", \"32\", \"33\", \"34\", \"35\", \"39\"], \"mode\": \"markers\", \"name\": \"recall_score_macro\", \"stepped\": false, \"type\": \"scatter\", \"data\": [0.8022711584940687, 0.7945968576057585, 0.8114698019129133, 0.8279241991238895, 0.808154234611278, 0.8243226435157549, 0.8444507719662517, 0.830088745104225, 0.8281481470026361, 0.7840476753208951, 0.8362405559696583, 0.816268148990672, 0.8312937973619089, 0.8286622184145405, 0.5, 0.8380617282184619]}, {\"categories\": [\"0\", \"1\", \"9\", \"14\", \"22\", \"24\", \"26\", \"27\", \"28\", \"29\", \"31\", \"32\", \"33\", \"34\", \"35\", \"39\"], \"mode\": \"lines\", \"name\": \"recall_score_macro_max\", \"stepped\": true, \"type\": \"scatter\", \"data\": [0.8022711584940687, 0.8022711584940687, 0.8114698019129133, 0.8279241991238895, 0.8279241991238895, 0.8279241991238895, 0.8444507719662517, 0.8444507719662517, 0.8444507719662517, 0.8444507719662517, 0.8444507719662517, 0.8444507719662517, 0.8444507719662517, 0.8444507719662517, 0.8444507719662517, 0.8444507719662517]}], \"precision_score_macro\": [{\"categories\": [\"0\", \"1\", \"9\", \"14\", \"22\", \"24\", \"26\", \"27\", \"28\", \"29\", \"31\", \"32\", \"33\", \"34\", \"35\", \"39\"], \"mode\": \"markers\", \"name\": \"precision_score_macro\", \"stepped\": false, \"type\": \"scatter\", \"data\": [0.8102987084295133, 0.8030743661634426, 0.8141370246110957, 0.8354841467012519, 0.817705209680913, 0.8325586725011277, 0.8493871152926881, 0.8356799781316037, 0.8339561704635235, 0.7862157033712761, 0.8433692328912917, 0.8225295007280302, 0.8405328429385335, 0.838211414367105, 0.27231182795698927, 0.8467914617706818]}, {\"categories\": [\"0\", \"1\", \"9\", \"14\", \"22\", \"24\", \"26\", \"27\", \"28\", \"29\", \"31\", \"32\", \"33\", \"34\", \"35\", \"39\"], \"mode\": \"lines\", \"name\": \"precision_score_macro_max\", \"stepped\": true, \"type\": \"scatter\", \"data\": [0.8102987084295133, 0.8102987084295133, 0.8141370246110957, 0.8354841467012519, 0.8354841467012519, 0.8354841467012519, 0.8493871152926881, 0.8493871152926881, 0.8493871152926881, 0.8493871152926881, 0.8493871152926881, 0.8493871152926881, 0.8493871152926881, 0.8493871152926881, 0.8493871152926881, 0.8493871152926881]}], \"AUC_micro\": [{\"categories\": [\"0\", \"1\", \"9\", \"14\", \"22\", \"24\", \"26\", \"27\", \"28\", \"29\", \"31\", \"32\", \"33\", \"34\", \"35\", \"39\"], \"mode\": \"markers\", \"name\": \"AUC_micro\", \"stepped\": false, \"type\": \"scatter\", \"data\": [0.8794298762862759, 0.8847121054457163, 0.8870295987975488, 0.9000842872008323, 0.8816344086021506, 0.8892976066597293, 0.900465256098971, 0.9000208116545265, 0.91250237021621, 0.8710946352179443, 0.9068639149034572, 0.9068321193201527, 0.9025957914209736, 0.9026927968551279, 0.5446236559139784, 0.9126699040351486]}, {\"categories\": [\"0\", \"1\", \"9\", \"14\", \"22\", \"24\", \"26\", \"27\", \"28\", \"29\", \"31\", \"32\", \"33\", \"34\", \"35\", \"39\"], \"mode\": \"lines\", \"name\": \"AUC_micro_max\", \"stepped\": true, \"type\": \"scatter\", \"data\": [0.8794298762862759, 0.8847121054457163, 0.8870295987975488, 0.9000842872008323, 0.9000842872008323, 0.9000842872008323, 0.900465256098971, 0.900465256098971, 0.91250237021621, 0.91250237021621, 0.91250237021621, 0.91250237021621, 0.91250237021621, 0.91250237021621, 0.91250237021621, 0.9126699040351486]}], \"average_precision_score_macro\": [{\"categories\": [\"0\", \"1\", \"9\", \"14\", \"22\", \"24\", \"26\", \"27\", \"28\", \"29\", \"31\", \"32\", \"33\", \"34\", \"35\", \"39\"], \"mode\": \"markers\", \"name\": \"average_precision_score_macro\", \"stepped\": false, \"type\": \"scatter\", \"data\": [0.8903297524201612, 0.8896769874640013, 0.8986731190735355, 0.9048406935425909, 0.8804228454767795, 0.8940028677193436, 0.9068386622197131, 0.9076665258953828, 0.9210082766715081, 0.8545563589516997, 0.915176849632876, 0.9103059708910323, 0.9076646926944543, 0.9073551135498356, 0.5, 0.9228883256056413]}, {\"categories\": [\"0\", \"1\", \"9\", \"14\", \"22\", \"24\", \"26\", \"27\", \"28\", \"29\", \"31\", \"32\", \"33\", \"34\", \"35\", \"39\"], \"mode\": \"lines\", \"name\": \"average_precision_score_macro_max\", \"stepped\": true, \"type\": \"scatter\", \"data\": [0.8903297524201612, 0.8903297524201612, 0.8986731190735355, 0.9048406935425909, 0.9048406935425909, 0.9048406935425909, 0.9068386622197131, 0.9076665258953828, 0.9210082766715081, 0.9210082766715081, 0.9210082766715081, 0.9210082766715081, 0.9210082766715081, 0.9210082766715081, 0.9210082766715081, 0.9228883256056413]}], \"AUC_weighted\": [{\"categories\": [\"0\", \"1\", \"9\", \"14\", \"22\", \"24\", \"26\", \"27\", \"28\", \"29\", \"31\", \"32\", \"33\", \"34\", \"35\", \"39\"], \"mode\": \"markers\", \"name\": \"AUC_weighted\", \"stepped\": false, \"type\": \"scatter\", \"data\": [0.885388772175537, 0.8818858641931397, 0.893884331584022, 0.8976410439262607, 0.8793410047841161, 0.8931365421071303, 0.905284167758626, 0.90491896549443, 0.9191181286606984, 0.868576791292929, 0.9116088138441079, 0.907703226669558, 0.9060484205337147, 0.9060979379381082, 0.5, 0.9201497851134073]}, {\"categories\": [\"0\", \"1\", \"9\", \"14\", \"22\", \"24\", \"26\", \"27\", \"28\", \"29\", \"31\", \"32\", \"33\", \"34\", \"35\", \"39\"], \"mode\": \"lines\", \"name\": \"AUC_weighted_max\", \"stepped\": true, \"type\": \"scatter\", \"data\": [0.885388772175537, 0.885388772175537, 0.893884331584022, 0.8976410439262607, 0.8976410439262607, 0.8976410439262607, 0.905284167758626, 0.905284167758626, 0.9191181286606984, 0.9191181286606984, 0.9191181286606984, 0.9191181286606984, 0.9191181286606984, 0.9191181286606984, 0.9191181286606984, 0.9201497851134073]}], \"average_precision_score_micro\": [{\"categories\": [\"0\", \"1\", \"9\", \"14\", \"22\", \"24\", \"26\", \"27\", \"28\", \"29\", \"31\", \"32\", \"33\", \"34\", \"35\", \"39\"], \"mode\": \"markers\", \"name\": \"average_precision_score_micro\", \"stepped\": false, \"type\": \"scatter\", \"data\": [0.8853765269807627, 0.8888687954030086, 0.8882861641980966, 0.9047437792587107, 0.8790199123903083, 0.8896251308654046, 0.9016908144811321, 0.9016075906276818, 0.9116175244877237, 0.8557633189170234, 0.9076082668852754, 0.9076862666447367, 0.9038736183843288, 0.902994760501876, 0.5289013758816048, 0.913785291617018]}, {\"categories\": [\"0\", \"1\", \"9\", \"14\", \"22\", \"24\", \"26\", \"27\", \"28\", \"29\", \"31\", \"32\", \"33\", \"34\", \"35\", \"39\"], \"mode\": \"lines\", \"name\": \"average_precision_score_micro_max\", \"stepped\": true, \"type\": \"scatter\", \"data\": [0.8853765269807627, 0.8888687954030086, 0.8888687954030086, 0.9047437792587107, 0.9047437792587107, 0.9047437792587107, 0.9047437792587107, 0.9047437792587107, 0.9116175244877237, 0.9116175244877237, 0.9116175244877237, 0.9116175244877237, 0.9116175244877237, 0.9116175244877237, 0.9116175244877237, 0.913785291617018]}], \"weighted_accuracy\": [{\"categories\": [\"0\", \"1\", \"9\", \"14\", \"22\", \"24\", \"26\", \"27\", \"28\", \"29\", \"31\", \"32\", \"33\", \"34\", \"35\", \"39\"], \"mode\": \"markers\", \"name\": \"weighted_accuracy\", \"stepped\": false, \"type\": \"scatter\", \"data\": [0.8070010132199048, 0.8077678001456668, 0.8172738378419171, 0.8344075198466785, 0.8209200475011771, 0.8313733495678031, 0.8509202111290737, 0.8385741816384756, 0.8339447432101899, 0.7857256465562716, 0.8456232525657033, 0.8263319496482907, 0.837751600524251, 0.8338096918105581, 0.5842748958320289, 0.8437679473556322]}, {\"categories\": [\"0\", \"1\", \"9\", \"14\", \"22\", \"24\", \"26\", \"27\", \"28\", \"29\", \"31\", \"32\", \"33\", \"34\", \"35\", \"39\"], \"mode\": \"lines\", \"name\": \"weighted_accuracy_max\", \"stepped\": true, \"type\": \"scatter\", \"data\": [0.8070010132199048, 0.8077678001456668, 0.8172738378419171, 0.8344075198466785, 0.8344075198466785, 0.8344075198466785, 0.8509202111290737, 0.8509202111290737, 0.8509202111290737, 0.8509202111290737, 0.8509202111290737, 0.8509202111290737, 0.8509202111290737, 0.8509202111290737, 0.8509202111290737, 0.8509202111290737]}], \"AUC_macro\": [{\"categories\": [\"0\", \"1\", \"9\", \"14\", \"22\", \"24\", \"26\", \"27\", \"28\", \"29\", \"31\", \"32\", \"33\", \"34\", \"35\", \"39\"], \"mode\": \"markers\", \"name\": \"AUC_macro\", \"stepped\": false, \"type\": \"scatter\", \"data\": [0.8853887721755369, 0.8818858641931397, 0.8938843315840218, 0.8976410439262607, 0.8793410047841161, 0.8931365421071303, 0.905284167758626, 0.9049189654944298, 0.9191181286606984, 0.868576791292929, 0.9116088138441081, 0.907703226669558, 0.9060484205337147, 0.9060979379381082, 0.5, 0.9201497851134073]}, {\"categories\": [\"0\", \"1\", \"9\", \"14\", \"22\", \"24\", \"26\", \"27\", \"28\", \"29\", \"31\", \"32\", \"33\", \"34\", \"35\", \"39\"], \"mode\": \"lines\", \"name\": \"AUC_macro_max\", \"stepped\": true, \"type\": \"scatter\", \"data\": [0.8853887721755369, 0.8853887721755369, 0.8938843315840218, 0.8976410439262607, 0.8976410439262607, 0.8976410439262607, 0.905284167758626, 0.905284167758626, 0.9191181286606984, 0.9191181286606984, 0.9191181286606984, 0.9191181286606984, 0.9191181286606984, 0.9191181286606984, 0.9191181286606984, 0.9201497851134073]}], \"recall_score_micro\": [{\"categories\": [\"0\", \"1\", \"9\", \"14\", \"22\", \"24\", \"26\", \"27\", \"28\", \"29\", \"31\", \"32\", \"33\", \"34\", \"35\", \"39\"], \"mode\": \"markers\", \"name\": \"recall_score_micro\", \"stepped\": false, \"type\": \"scatter\", \"data\": [0.8048387096774194, 0.8016129032258064, 0.814516129032258, 0.8313978494623656, 0.8150537634408603, 0.8280645161290321, 0.8479569892473119, 0.8346236559139786, 0.8312903225806453, 0.7851612903225806, 0.8412903225806451, 0.8216129032258065, 0.8347311827956988, 0.8313978494623655, 0.5446236559139785, 0.8410752688172044]}, {\"categories\": [\"0\", \"1\", \"9\", \"14\", \"22\", \"24\", \"26\", \"27\", \"28\", \"29\", \"31\", \"32\", \"33\", \"34\", \"35\", \"39\"], \"mode\": \"lines\", \"name\": \"recall_score_micro_max\", \"stepped\": true, \"type\": \"scatter\", \"data\": [0.8048387096774194, 0.8048387096774194, 0.814516129032258, 0.8313978494623656, 0.8313978494623656, 0.8313978494623656, 0.8479569892473119, 0.8479569892473119, 0.8479569892473119, 0.8479569892473119, 0.8479569892473119, 0.8479569892473119, 0.8479569892473119, 0.8479569892473119, 0.8479569892473119, 0.8479569892473119]}]}, \"metricName\": null, \"primaryMetricName\": \"accuracy\", \"showLegend\": false}, \"run_metrics\": [{\"name\": \"experiment_status\", \"run_id\": \"AutoML_987e9c5d-9ee9-49fe-ba81-db8bf828cc6f\", \"categories\": [0, 1, 2, 3, 4, 5, 6, 7, 8, 9, 10, 11, 12, 13], \"series\": [{\"data\": [\"DatasetEvaluation\", \"FeaturesGeneration\", \"DatasetFeaturization\", \"DatasetFeaturizationCompleted\", \"DatasetCrossValidationSplit\", \"ModelSelection\", \"BestRunExplainModel\", \"ModelExplanationDataSetSetup\", \"PickSurrogateModel\", \"EngineeredFeatureExplanations\", \"EngineeredFeatureExplanations\", \"RawFeaturesExplanations\", \"RawFeaturesExplanations\", \"BestRunExplainModel\"]}]}, {\"name\": \"experiment_status_description\", \"run_id\": \"AutoML_987e9c5d-9ee9-49fe-ba81-db8bf828cc6f\", \"categories\": [0, 1, 2, 3, 4, 5, 6, 7, 8, 9, 10, 11, 12, 13], \"series\": [{\"data\": [\"Gathering dataset statistics.\", \"Generating features for the dataset.\", \"Beginning to fit featurizers and featurize the dataset.\", \"Completed fit featurizers and featurizing the dataset.\", \"Generating individually featurized CV splits.\", \"Beginning model selection.\", \"Best run model explanations started\", \"Model explanations data setup completed\", \"Choosing LightGBM as the surrogate model for explanations\", \"Computation of engineered features started\", \"Computation of engineered features completed\", \"Computation of raw features started\", \"Computation of raw features completed\", \"Best run model explanations completed\"]}]}, {\"name\": \"recall_score_macro\", \"run_id\": \"AutoML_987e9c5d-9ee9-49fe-ba81-db8bf828cc6f\", \"categories\": [0], \"series\": [{\"data\": [0.8538976415311555]}]}, {\"name\": \"precision_score_macro\", \"run_id\": \"AutoML_987e9c5d-9ee9-49fe-ba81-db8bf828cc6f\", \"categories\": [0], \"series\": [{\"data\": [0.8587735426338368]}]}, {\"name\": \"weighted_accuracy\", \"run_id\": \"AutoML_987e9c5d-9ee9-49fe-ba81-db8bf828cc6f\", \"categories\": [0], \"series\": [{\"data\": [0.8611574924402319]}]}, {\"name\": \"balanced_accuracy\", \"run_id\": \"AutoML_987e9c5d-9ee9-49fe-ba81-db8bf828cc6f\", \"categories\": [0], \"series\": [{\"data\": [0.8538976415311555]}]}, {\"name\": \"accuracy\", \"run_id\": \"AutoML_987e9c5d-9ee9-49fe-ba81-db8bf828cc6f\", \"categories\": [0], \"series\": [{\"data\": [0.857741935483871]}]}, {\"name\": \"recall_score_micro\", \"run_id\": \"AutoML_987e9c5d-9ee9-49fe-ba81-db8bf828cc6f\", \"categories\": [0], \"series\": [{\"data\": [0.857741935483871]}]}, {\"name\": \"f1_score_macro\", \"run_id\": \"AutoML_987e9c5d-9ee9-49fe-ba81-db8bf828cc6f\", \"categories\": [0], \"series\": [{\"data\": [0.8519645003493818]}]}, {\"name\": \"precision_score_weighted\", \"run_id\": \"AutoML_987e9c5d-9ee9-49fe-ba81-db8bf828cc6f\", \"categories\": [0], \"series\": [{\"data\": [0.8632265123923094]}]}, {\"name\": \"AUC_micro\", \"run_id\": \"AutoML_987e9c5d-9ee9-49fe-ba81-db8bf828cc6f\", \"categories\": [0], \"series\": [{\"data\": [0.9137122210660191]}]}, {\"name\": \"matthews_correlation\", \"run_id\": \"AutoML_987e9c5d-9ee9-49fe-ba81-db8bf828cc6f\", \"categories\": [0], \"series\": [{\"data\": [0.7123759456169987]}]}, {\"name\": \"recall_score_weighted\", \"run_id\": \"AutoML_987e9c5d-9ee9-49fe-ba81-db8bf828cc6f\", \"categories\": [0], \"series\": [{\"data\": [0.857741935483871]}]}, {\"name\": \"norm_macro_recall\", \"run_id\": \"AutoML_987e9c5d-9ee9-49fe-ba81-db8bf828cc6f\", \"categories\": [0], \"series\": [{\"data\": [0.707795283062311]}]}, {\"name\": \"average_precision_score_macro\", \"run_id\": \"AutoML_987e9c5d-9ee9-49fe-ba81-db8bf828cc6f\", \"categories\": [0], \"series\": [{\"data\": [0.9205373621144928]}]}, {\"name\": \"f1_score_weighted\", \"run_id\": \"AutoML_987e9c5d-9ee9-49fe-ba81-db8bf828cc6f\", \"categories\": [0], \"series\": [{\"data\": [0.8563643347551155]}]}, {\"name\": \"f1_score_micro\", \"run_id\": \"AutoML_987e9c5d-9ee9-49fe-ba81-db8bf828cc6f\", \"categories\": [0], \"series\": [{\"data\": [0.857741935483871]}]}, {\"name\": \"log_loss\", \"run_id\": \"AutoML_987e9c5d-9ee9-49fe-ba81-db8bf828cc6f\", \"categories\": [0], \"series\": [{\"data\": [0.3929398731381307]}]}, {\"name\": \"average_precision_score_micro\", \"run_id\": \"AutoML_987e9c5d-9ee9-49fe-ba81-db8bf828cc6f\", \"categories\": [0], \"series\": [{\"data\": [0.9133613798581839]}]}, {\"name\": \"AUC_weighted\", \"run_id\": \"AutoML_987e9c5d-9ee9-49fe-ba81-db8bf828cc6f\", \"categories\": [0], \"series\": [{\"data\": [0.9189068842807233]}]}, {\"name\": \"average_precision_score_weighted\", \"run_id\": \"AutoML_987e9c5d-9ee9-49fe-ba81-db8bf828cc6f\", \"categories\": [0], \"series\": [{\"data\": [0.9239149126994082]}]}, {\"name\": \"precision_score_micro\", \"run_id\": \"AutoML_987e9c5d-9ee9-49fe-ba81-db8bf828cc6f\", \"categories\": [0], \"series\": [{\"data\": [0.857741935483871]}]}, {\"name\": \"AUC_macro\", \"run_id\": \"AutoML_987e9c5d-9ee9-49fe-ba81-db8bf828cc6f\", \"categories\": [0], \"series\": [{\"data\": [0.9189068842807233]}]}], \"run_logs\": \"\\nRun is completed.\", \"graph\": {}, \"widget_settings\": {\"childWidgetDisplay\": \"popup\", \"send_telemetry\": false, \"log_level\": \"INFO\", \"sdk_version\": \"1.48.0\"}, \"loading\": false}"
     },
     "metadata": {}
    }
   ],
   "execution_count": 6,
   "metadata": {
    "gather": {
     "logged": 1677689298637
    },
    "jupyter": {
     "outputs_hidden": false,
     "source_hidden": false
    },
    "nteract": {
     "transient": {
      "deleting": false
     }
    }
   }
  },
  {
   "cell_type": "markdown",
   "source": [
    "## Best Model\n",
    "\n",
    "TODO: In the cell below, get the best model from the automl experiments and display all the properties of the model.\n",
    "\n"
   ],
   "metadata": {}
  },
  {
   "cell_type": "code",
   "source": [
    "# Get best run and model\n",
    "best_run, model = remote_run.get_output()\n",
    "best_run_metrics = best_run.get_metrics()\n",
    "display(best_run)\n",
    "print(\"Primary metric accuracy: \", best_run_metrics['accuracy'])\n",
    "print(\"All metrics:\")\n",
    "print(json.dumps(best_run_metrics, indent=4))\n",
    "print(\"Model Config\")\n",
    "print(model)"
   ],
   "outputs": [
    {
     "output_type": "display_data",
     "data": {
      "text/plain": "Run(Experiment: udacity-project-automl,\nId: AutoML_987e9c5d-9ee9-49fe-ba81-db8bf828cc6f_38,\nType: azureml.scriptrun,\nStatus: Completed)",
      "text/html": "<table style=\"width:100%\"><tr><th>Experiment</th><th>Id</th><th>Type</th><th>Status</th><th>Details Page</th><th>Docs Page</th></tr><tr><td>udacity-project-automl</td><td>AutoML_987e9c5d-9ee9-49fe-ba81-db8bf828cc6f_38</td><td>azureml.scriptrun</td><td>Completed</td><td><a href=\"https://ml.azure.com/runs/AutoML_987e9c5d-9ee9-49fe-ba81-db8bf828cc6f_38?wsid=/subscriptions/5a4ab2ba-6c51-4805-8155-58759ad589d8/resourcegroups/aml-quickstarts-227003/workspaces/quick-starts-ws-227003&amp;tid=660b3398-b80e-49d2-bc5b-ac1dc93b5254\" target=\"_blank\" rel=\"noopener\">Link to Azure Machine Learning studio</a></td><td><a href=\"https://docs.microsoft.com/en-us/python/api/azureml-core/azureml.core.run.Run?view=azure-ml-py\" target=\"_blank\" rel=\"noopener\">Link to Documentation</a></td></tr></table>"
     },
     "metadata": {}
    },
    {
     "output_type": "stream",
     "name": "stdout",
     "text": "Primary metric accuracy:  0.857741935483871\nAll metrics:\n{\n    \"average_precision_score_weighted\": 0.9239149126994082,\n    \"AUC_macro\": 0.9189068842807233,\n    \"average_precision_score_micro\": 0.9133613798581839,\n    \"average_precision_score_macro\": 0.9205373621144928,\n    \"AUC_weighted\": 0.9189068842807233,\n    \"matthews_correlation\": 0.7123759456169987,\n    \"precision_score_weighted\": 0.8632265123923094,\n    \"recall_score_micro\": 0.857741935483871,\n    \"precision_score_micro\": 0.857741935483871,\n    \"f1_score_micro\": 0.857741935483871,\n    \"weighted_accuracy\": 0.8611574924402319,\n    \"AUC_micro\": 0.9137122210660191,\n    \"accuracy\": 0.857741935483871,\n    \"balanced_accuracy\": 0.8538976415311555,\n    \"log_loss\": 0.3929398731381307,\n    \"f1_score_weighted\": 0.8563643347551155,\n    \"norm_macro_recall\": 0.707795283062311,\n    \"precision_score_macro\": 0.8587735426338368,\n    \"f1_score_macro\": 0.8519645003493818,\n    \"recall_score_weighted\": 0.857741935483871,\n    \"recall_score_macro\": 0.8538976415311555,\n    \"confusion_matrix\": \"aml://artifactId/ExperimentRun/dcid.AutoML_987e9c5d-9ee9-49fe-ba81-db8bf828cc6f_38/confusion_matrix\",\n    \"accuracy_table\": \"aml://artifactId/ExperimentRun/dcid.AutoML_987e9c5d-9ee9-49fe-ba81-db8bf828cc6f_38/accuracy_table\"\n}\nModel Config\nPipeline(memory=None,\n         steps=[('datatransformer',\n                 DataTransformer(enable_dnn=False, enable_feature_sweeping=True, feature_sweeping_config={}, feature_sweeping_timeout=86400, featurization_config=None, force_text_dnn=False, is_cross_validation=True, is_onnx_compatible=False, observer=None, task='classification', working_dir='/mnt/batch/tasks/shared/LS_root/mount...\n                 PreFittedSoftVotingClassifier(classification_labels=array([0, 1]), estimators=[('8', Pipeline(memory=None, steps=[('standardscalerwrapper', StandardScalerWrapper(copy=True, with_mean=False, with_std=False)), ('extratreesclassifier', ExtraTreesClassifier(bootstrap=False, ccp_alpha=0.0, class_weight=None, criterion='entropy', max_depth=None, max_features=0.05, max_leaf_nodes=None, max_samples=None, min_impurity_decrease=0.0, min_impurity_split=None, min_samples_leaf=0.01, min_samples_split=0.01, min_weight_fraction_leaf=0.0, n_estimators=25, n_jobs=1, oob_score=False, random_state=None, verbose=0, warm_start=False))], verbose=False)), ('26', Pipeline(memory=None, steps=[('maxabsscaler', MaxAbsScaler(copy=True)), ('extratreesclassifier', ExtraTreesClassifier(bootstrap=True, ccp_alpha=0.0, class_weight=None, criterion='entropy', max_depth=None, max_features=0.7, max_leaf_nodes=None, max_samples=None, min_impurity_decrease=0.0, min_impurity_split=None, min_samples_leaf=0.06157894736842105, min_samples_split=0.10368421052631578, min_weight_fraction_leaf=0.0, n_estimators=200, n_jobs=1, oob_score=True, random_state=None, verbose=0, warm_start=False))], verbose=False)), ('31', Pipeline(memory=None, steps=[('standardscalerwrapper', StandardScalerWrapper(copy=True, with_mean=False, with_std=True)), ('extratreesclassifier', ExtraTreesClassifier(bootstrap=True, ccp_alpha=0.0, class_weight=None, criterion='gini', max_depth=None, max_features=0.3, max_leaf_nodes=None, max_samples=None, min_impurity_decrease=0.0, min_impurity_split=None, min_samples_leaf=0.01, min_samples_split=0.056842105263157895, min_weight_fraction_leaf=0.0, n_estimators=200, n_jobs=1, oob_score=True, random_state=None, verbose=0, warm_start=False))], verbose=False)), ('16', Pipeline(memory=None, steps=[('standardscalerwrapper', StandardScalerWrapper(copy=True, with_mean=False, with_std=False)), ('logisticregression', LogisticRegression(C=51.79474679231202, class_weight=None, dual=False, fit_intercept=True, intercept_scaling=1, l1_ratio=None, max_iter=100, multi_class='ovr', n_jobs=1, penalty='l2', random_state=None, solver='lbfgs', tol=0.0001, verbose=0, warm_start=False))], verbose=False)), ('13', Pipeline(memory=None, steps=[('maxabsscaler', MaxAbsScaler(copy=True)), ('sgdclassifierwrapper', SGDClassifierWrapper(alpha=7.5510448979591835, class_weight='balanced', eta0=0.001, fit_intercept=True, l1_ratio=0.42857142857142855, learning_rate='constant', loss='modified_huber', max_iter=1000, n_jobs=1, penalty='none', power_t=0.7777777777777777, random_state=None, tol=0.0001))], verbose=False)), ('34', Pipeline(memory=None, steps=[('maxabsscaler', MaxAbsScaler(copy=True)), ('logisticregression', LogisticRegression(C=11.513953993264458, class_weight=None, dual=False, fit_intercept=True, intercept_scaling=1, l1_ratio=None, max_iter=100, multi_class='multinomial', n_jobs=1, penalty='l2', random_state=None, solver='lbfgs', tol=0.0001, verbose=0, warm_start=False))], verbose=False)), ('32', Pipeline(memory=None, steps=[('standardscalerwrapper', StandardScalerWrapper(copy=True, with_mean=False, with_std=True)), ('lightgbmclassifier', LightGBMClassifier(boosting_type='goss', colsample_bytree=0.1, learning_rate=0.026323157894736843, max_bin=20, max_depth=6, min_child_weight=1, min_data_in_leaf=0.08276034482758622, min_split_gain=0.5263157894736842, n_estimators=200, n_jobs=1, num_leaves=77, problem_info=ProblemInfo(gpu_training_param_dict={'processing_unit_type': 'cpu'}), random_state=None, reg_alpha=0.15789473684210525, reg_lambda=0.15789473684210525, subsample=1))], verbose=False)), ('5', Pipeline(memory=None, steps=[('maxabsscaler', MaxAbsScaler(copy=True)), ('lightgbmclassifier', LightGBMClassifier(boosting_type='gbdt', colsample_bytree=0.5944444444444444, learning_rate=0.06316157894736842, max_bin=260, max_depth=6, min_child_weight=2, min_data_in_leaf=0.003457931034482759, min_split_gain=0.42105263157894735, n_estimators=10, n_jobs=1, num_leaves=161, problem_info=ProblemInfo(gpu_training_param_dict={'processing_unit_type': 'cpu'}), random_state=None, reg_alpha=0.3684210526315789, reg_lambda=0.15789473684210525, subsample=0.5447368421052632))], verbose=False))], flatten_transform=None, weights=[0.18181818181818182, 0.09090909090909091, 0.09090909090909091, 0.2727272727272727, 0.09090909090909091, 0.09090909090909091, 0.09090909090909091, 0.09090909090909091]))],\n         verbose=False)\n"
    }
   ],
   "execution_count": 7,
   "metadata": {
    "collapsed": false,
    "gather": {
     "logged": 1677689304211
    }
   }
  },
  {
   "cell_type": "code",
   "source": [
    "#TODO: Save the best model\n",
    "best_model = best_run.register_model(\n",
    "    model_path='./outputs/model.pkl',\n",
    "    model_name='best_automl_model', properties=dict(best_run_metrics)\n",
    ")\n"
   ],
   "outputs": [],
   "execution_count": 18,
   "metadata": {
    "gather": {
     "logged": 1677690461951
    },
    "jupyter": {
     "outputs_hidden": false,
     "source_hidden": false
    },
    "nteract": {
     "transient": {
      "deleting": false
     }
    }
   }
  },
  {
   "cell_type": "markdown",
   "source": [
    "## Model Deployment\n",
    "\n",
    "Remember you have to deploy only one of the two models you trained but you still need to register both the models. Perform the steps in the rest of this notebook only if you wish to deploy this model.\n",
    "\n",
    "TODO: In the cell below, register the model, create an inference config and deploy the model as a web service."
   ],
   "metadata": {}
  },
  {
   "cell_type": "code",
   "source": [
    "\n",
    "best_run.download_file('outputs/scoring_file_v_1_0_0.py', 'scoring_file.py')\n",
    "\n",
    "\n",
    "inference_config = InferenceConfig(entry_script='scoring_file.py', environment=best_run.get_environment())\n",
    "\n",
    "deployment_config = AciWebservice.deploy_configuration(cpu_cores=1, memory_gb=1)\n",
    "service = Model.deploy(ws, \"automl-deployment\", [best_model], inference_config, deployment_config)\n",
    "service.wait_for_deployment(show_output=True)\n",
    "\n",
    "assert service.state == 'Healthy', \"Something with the deployment went wrong since the endpoint is not healthy\"\n",
    "\n",
    "print(f\"Swagger URI: {service.swagger_uri}\\nScoring URI: {service.scoring_uri}\")"
   ],
   "outputs": [
    {
     "output_type": "stream",
     "name": "stdout",
     "text": "Tips: You can try get_logs(): https://aka.ms/debugimage#dockerlog or local deployment: https://aka.ms/debugimage#debug-locally to debug if deployment takes longer than 10 minutes.\nRunning\n2023-03-01 17:07:47+00:00 Creating Container Registry if not exists.\n2023-03-01 17:07:47+00:00 Registering the environment.\n2023-03-01 17:07:47+00:00 Use the existing image.\n2023-03-01 17:07:48+00:00 Submitting deployment to compute.\n2023-03-01 17:07:53+00:00 Checking the status of deployment automl-deployment..\n2023-03-01 17:09:55+00:00 Checking the status of inference endpoint automl-deployment.\nSucceeded\nACI service creation operation finished, operation \"Succeeded\"\nSwagger URI: http://3280269c-052f-488b-b1af-7d04f6a3f347.westus2.azurecontainer.io/swagger.json\nScoring URI: http://3280269c-052f-488b-b1af-7d04f6a3f347.westus2.azurecontainer.io/score\n"
    }
   ],
   "execution_count": 19,
   "metadata": {
    "gather": {
     "logged": 1677690601953
    },
    "jupyter": {
     "outputs_hidden": false,
     "source_hidden": false
    },
    "nteract": {
     "transient": {
      "deleting": false
     }
    }
   }
  },
  {
   "cell_type": "markdown",
   "source": [
    "TODO: In the cell below, send a request to the web service you deployed to test it."
   ],
   "metadata": {
    "collapsed": true,
    "gather": {
     "logged": 1598431657736
    },
    "jupyter": {
     "outputs_hidden": false,
     "source_hidden": false
    },
    "nteract": {
     "transient": {
      "deleting": false
     }
    }
   }
  },
  {
   "cell_type": "code",
   "source": [
    "import json\n",
    "from requests import post\n",
    "import pandas as pd\n",
    "\n",
    "n_samples = 10\n",
    "\n",
    "X = heart_dataset.to_pandas_dataframe().sample(10)\n",
    "y = X.pop('output')\n",
    "\n",
    "sample_payload = json.dumps(dict(data=X.to_dict(orient='records')))\n",
    "\n",
    "response = post(service.scoring_uri, sample_payload, headers={'Content-type': 'application/json'})\n",
    "\n",
    "(\n",
    "    pd.concat([v.reset_index(drop=True) for v in [X, y, pd.DataFrame(eval(eval(response.text)))]], axis='columns')\n",
    "    .rename(columns=dict(output='actual_output', result='predicted_output'))\n",
    "    .assign(correct=lambda df: df.actual_output == df.predicted_output)\n",
    ")"
   ],
   "outputs": [
    {
     "output_type": "execute_result",
     "execution_count": 20,
     "data": {
      "text/plain": "   age  sex  cp  trtbps  chol  fbs  restecg  thalachh  exng  oldpeak  slp  \\\n0   60    1   0     145   282    0        0       142     1     2.80    1   \n1   43    0   2     122   213    0        1       165     0     0.20    1   \n2   65    1   0     110   248    0        0       158     0     0.60    2   \n3   61    1   2     150   243    1        1       137     1     1.00    1   \n4   49    0   0     130   269    0        1       163     0     0.00    2   \n5   46    0   1     105   204    0        1       172     0     0.00    2   \n6   44    1   1     130   219    0        0       188     0     0.00    2   \n7   42    0   0     102   265    0        0       122     0     0.60    1   \n8   59    1   3     160   273    0        0       125     0     0.00    2   \n9   58    1   2     132   224    0        0       173     0     3.20    2   \n\n   caa  thall  actual_output  predicted_output  correct  \n0    2      3              0                 0     True  \n1    0      2              1                 1     True  \n2    2      1              0                 0     True  \n3    0      2              1                 1     True  \n4    0      2              1                 1     True  \n5    0      2              1                 1     True  \n6    0      2              1                 1     True  \n7    0      2              1                 1     True  \n8    0      2              0                 1    False  \n9    2      3              0                 0     True  ",
      "text/html": "<div>\n<style scoped>\n    .dataframe tbody tr th:only-of-type {\n        vertical-align: middle;\n    }\n\n    .dataframe tbody tr th {\n        vertical-align: top;\n    }\n\n    .dataframe thead th {\n        text-align: right;\n    }\n</style>\n<table border=\"1\" class=\"dataframe\">\n  <thead>\n    <tr style=\"text-align: right;\">\n      <th></th>\n      <th>age</th>\n      <th>sex</th>\n      <th>cp</th>\n      <th>trtbps</th>\n      <th>chol</th>\n      <th>fbs</th>\n      <th>restecg</th>\n      <th>thalachh</th>\n      <th>exng</th>\n      <th>oldpeak</th>\n      <th>slp</th>\n      <th>caa</th>\n      <th>thall</th>\n      <th>actual_output</th>\n      <th>predicted_output</th>\n      <th>correct</th>\n    </tr>\n  </thead>\n  <tbody>\n    <tr>\n      <th>0</th>\n      <td>60</td>\n      <td>1</td>\n      <td>0</td>\n      <td>145</td>\n      <td>282</td>\n      <td>0</td>\n      <td>0</td>\n      <td>142</td>\n      <td>1</td>\n      <td>2.80</td>\n      <td>1</td>\n      <td>2</td>\n      <td>3</td>\n      <td>0</td>\n      <td>0</td>\n      <td>True</td>\n    </tr>\n    <tr>\n      <th>1</th>\n      <td>43</td>\n      <td>0</td>\n      <td>2</td>\n      <td>122</td>\n      <td>213</td>\n      <td>0</td>\n      <td>1</td>\n      <td>165</td>\n      <td>0</td>\n      <td>0.20</td>\n      <td>1</td>\n      <td>0</td>\n      <td>2</td>\n      <td>1</td>\n      <td>1</td>\n      <td>True</td>\n    </tr>\n    <tr>\n      <th>2</th>\n      <td>65</td>\n      <td>1</td>\n      <td>0</td>\n      <td>110</td>\n      <td>248</td>\n      <td>0</td>\n      <td>0</td>\n      <td>158</td>\n      <td>0</td>\n      <td>0.60</td>\n      <td>2</td>\n      <td>2</td>\n      <td>1</td>\n      <td>0</td>\n      <td>0</td>\n      <td>True</td>\n    </tr>\n    <tr>\n      <th>3</th>\n      <td>61</td>\n      <td>1</td>\n      <td>2</td>\n      <td>150</td>\n      <td>243</td>\n      <td>1</td>\n      <td>1</td>\n      <td>137</td>\n      <td>1</td>\n      <td>1.00</td>\n      <td>1</td>\n      <td>0</td>\n      <td>2</td>\n      <td>1</td>\n      <td>1</td>\n      <td>True</td>\n    </tr>\n    <tr>\n      <th>4</th>\n      <td>49</td>\n      <td>0</td>\n      <td>0</td>\n      <td>130</td>\n      <td>269</td>\n      <td>0</td>\n      <td>1</td>\n      <td>163</td>\n      <td>0</td>\n      <td>0.00</td>\n      <td>2</td>\n      <td>0</td>\n      <td>2</td>\n      <td>1</td>\n      <td>1</td>\n      <td>True</td>\n    </tr>\n    <tr>\n      <th>5</th>\n      <td>46</td>\n      <td>0</td>\n      <td>1</td>\n      <td>105</td>\n      <td>204</td>\n      <td>0</td>\n      <td>1</td>\n      <td>172</td>\n      <td>0</td>\n      <td>0.00</td>\n      <td>2</td>\n      <td>0</td>\n      <td>2</td>\n      <td>1</td>\n      <td>1</td>\n      <td>True</td>\n    </tr>\n    <tr>\n      <th>6</th>\n      <td>44</td>\n      <td>1</td>\n      <td>1</td>\n      <td>130</td>\n      <td>219</td>\n      <td>0</td>\n      <td>0</td>\n      <td>188</td>\n      <td>0</td>\n      <td>0.00</td>\n      <td>2</td>\n      <td>0</td>\n      <td>2</td>\n      <td>1</td>\n      <td>1</td>\n      <td>True</td>\n    </tr>\n    <tr>\n      <th>7</th>\n      <td>42</td>\n      <td>0</td>\n      <td>0</td>\n      <td>102</td>\n      <td>265</td>\n      <td>0</td>\n      <td>0</td>\n      <td>122</td>\n      <td>0</td>\n      <td>0.60</td>\n      <td>1</td>\n      <td>0</td>\n      <td>2</td>\n      <td>1</td>\n      <td>1</td>\n      <td>True</td>\n    </tr>\n    <tr>\n      <th>8</th>\n      <td>59</td>\n      <td>1</td>\n      <td>3</td>\n      <td>160</td>\n      <td>273</td>\n      <td>0</td>\n      <td>0</td>\n      <td>125</td>\n      <td>0</td>\n      <td>0.00</td>\n      <td>2</td>\n      <td>0</td>\n      <td>2</td>\n      <td>0</td>\n      <td>1</td>\n      <td>False</td>\n    </tr>\n    <tr>\n      <th>9</th>\n      <td>58</td>\n      <td>1</td>\n      <td>2</td>\n      <td>132</td>\n      <td>224</td>\n      <td>0</td>\n      <td>0</td>\n      <td>173</td>\n      <td>0</td>\n      <td>3.20</td>\n      <td>2</td>\n      <td>2</td>\n      <td>3</td>\n      <td>0</td>\n      <td>0</td>\n      <td>True</td>\n    </tr>\n  </tbody>\n</table>\n</div>"
     },
     "metadata": {}
    }
   ],
   "execution_count": 20,
   "metadata": {
    "gather": {
     "logged": 1677690603147
    },
    "jupyter": {
     "outputs_hidden": false,
     "source_hidden": false
    },
    "nteract": {
     "transient": {
      "deleting": false
     }
    }
   }
  },
  {
   "cell_type": "markdown",
   "source": [
    "TODO: In the cell below, print the logs of the web service and delete the service"
   ],
   "metadata": {
    "collapsed": true,
    "gather": {
     "logged": 1598432765711
    },
    "jupyter": {
     "outputs_hidden": false,
     "source_hidden": false
    },
    "nteract": {
     "transient": {
      "deleting": false
     }
    }
   }
  },
  {
   "cell_type": "code",
   "source": [
    "\n",
    "sample_payload"
   ],
   "outputs": [
    {
     "output_type": "execute_result",
     "execution_count": 21,
     "data": {
      "text/plain": "'{\"data\": [{\"age\": 60, \"sex\": 1, \"cp\": 0, \"trtbps\": 145, \"chol\": 282, \"fbs\": 0, \"restecg\": 0, \"thalachh\": 142, \"exng\": 1, \"oldpeak\": 2.8, \"slp\": 1, \"caa\": 2, \"thall\": 3}, {\"age\": 43, \"sex\": 0, \"cp\": 2, \"trtbps\": 122, \"chol\": 213, \"fbs\": 0, \"restecg\": 1, \"thalachh\": 165, \"exng\": 0, \"oldpeak\": 0.2, \"slp\": 1, \"caa\": 0, \"thall\": 2}, {\"age\": 65, \"sex\": 1, \"cp\": 0, \"trtbps\": 110, \"chol\": 248, \"fbs\": 0, \"restecg\": 0, \"thalachh\": 158, \"exng\": 0, \"oldpeak\": 0.6, \"slp\": 2, \"caa\": 2, \"thall\": 1}, {\"age\": 61, \"sex\": 1, \"cp\": 2, \"trtbps\": 150, \"chol\": 243, \"fbs\": 1, \"restecg\": 1, \"thalachh\": 137, \"exng\": 1, \"oldpeak\": 1.0, \"slp\": 1, \"caa\": 0, \"thall\": 2}, {\"age\": 49, \"sex\": 0, \"cp\": 0, \"trtbps\": 130, \"chol\": 269, \"fbs\": 0, \"restecg\": 1, \"thalachh\": 163, \"exng\": 0, \"oldpeak\": 0.0, \"slp\": 2, \"caa\": 0, \"thall\": 2}, {\"age\": 46, \"sex\": 0, \"cp\": 1, \"trtbps\": 105, \"chol\": 204, \"fbs\": 0, \"restecg\": 1, \"thalachh\": 172, \"exng\": 0, \"oldpeak\": 0.0, \"slp\": 2, \"caa\": 0, \"thall\": 2}, {\"age\": 44, \"sex\": 1, \"cp\": 1, \"trtbps\": 130, \"chol\": 219, \"fbs\": 0, \"restecg\": 0, \"thalachh\": 188, \"exng\": 0, \"oldpeak\": 0.0, \"slp\": 2, \"caa\": 0, \"thall\": 2}, {\"age\": 42, \"sex\": 0, \"cp\": 0, \"trtbps\": 102, \"chol\": 265, \"fbs\": 0, \"restecg\": 0, \"thalachh\": 122, \"exng\": 0, \"oldpeak\": 0.6, \"slp\": 1, \"caa\": 0, \"thall\": 2}, {\"age\": 59, \"sex\": 1, \"cp\": 3, \"trtbps\": 160, \"chol\": 273, \"fbs\": 0, \"restecg\": 0, \"thalachh\": 125, \"exng\": 0, \"oldpeak\": 0.0, \"slp\": 2, \"caa\": 0, \"thall\": 2}, {\"age\": 58, \"sex\": 1, \"cp\": 2, \"trtbps\": 132, \"chol\": 224, \"fbs\": 0, \"restecg\": 0, \"thalachh\": 173, \"exng\": 0, \"oldpeak\": 3.2, \"slp\": 2, \"caa\": 2, \"thall\": 3}]}'"
     },
     "metadata": {}
    }
   ],
   "execution_count": 21,
   "metadata": {
    "jupyter": {
     "source_hidden": false,
     "outputs_hidden": false
    },
    "nteract": {
     "transient": {
      "deleting": false
     }
    },
    "gather": {
     "logged": 1677691118332
    }
   }
  },
  {
   "cell_type": "code",
   "source": [
    "print(service.get_logs())\n",
    "service.delete()"
   ],
   "outputs": [],
   "execution_count": null,
   "metadata": {
    "jupyter": {
     "outputs_hidden": false,
     "source_hidden": false
    },
    "nteract": {
     "transient": {
      "deleting": false
     }
    },
    "gather": {
     "logged": 1677689304824
    }
   }
  },
  {
   "cell_type": "markdown",
   "source": [
    "**Submission Checklist**\n",
    "- I have registered the model.\n",
    "- I have deployed the model with the best accuracy as a webservice.\n",
    "- I have tested the webservice by sending a request to the model endpoint.\n",
    "- I have deleted the webservice and shutdown all the computes that I have used.\n",
    "- I have taken a screenshot showing the model endpoint as active.\n",
    "- The project includes a file containing the environment details.\n"
   ],
   "metadata": {}
  },
  {
   "cell_type": "markdown",
   "source": [],
   "metadata": {}
  }
 ],
 "metadata": {
  "kernel_info": {
   "name": "python38-azureml"
  },
  "kernelspec": {
   "name": "python38-azureml",
   "language": "python",
   "display_name": "Python 3.8 - AzureML"
  },
  "language_info": {
   "name": "python",
   "version": "3.8.10",
   "mimetype": "text/x-python",
   "codemirror_mode": {
    "name": "ipython",
    "version": 3
   },
   "pygments_lexer": "ipython3",
   "nbconvert_exporter": "python",
   "file_extension": ".py"
  },
  "nteract": {
   "version": "nteract-front-end@1.0.0"
  },
  "microsoft": {
   "host": {
    "AzureML": {
     "notebookHasBeenCompleted": true
    }
   },
   "ms_spell_check": {
    "ms_spell_check_language": "en"
   }
  }
 },
 "nbformat": 4,
 "nbformat_minor": 2
}
